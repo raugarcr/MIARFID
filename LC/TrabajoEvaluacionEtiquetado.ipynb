{
 "cells": [
  {
   "cell_type": "code",
   "execution_count": 1,
   "metadata": {},
   "outputs": [],
   "source": [
    "import nltk\n",
    "from nltk.corpus import cess_esp\n",
    "corpus_sentences = cess_esp.tagged_sents()\n",
    "#Transformamos el corpus para reducir categorias como en la practica 2\n",
    "corpus_transformado = []\n",
    "corpus_original = []\n",
    "for sentence in corpus_sentences:\n",
    "    sentence_aux = []\n",
    "    for word, label in sentence:\n",
    "        if(word != \"*0*\"):\n",
    "            if(label.startswith(\"v\") or label.startswith(\"F\")):\n",
    "                sentence_aux.append((word, label[0:3]))\n",
    "            else:\n",
    "                sentence_aux.append((word, label[0:2]))\n",
    "    corpus_transformado.append(sentence_aux) \n",
    "for sentence in corpus_sentences:\n",
    "    corpus_original.append(sentence)      "
   ]
  },
  {
   "cell_type": "markdown",
   "metadata": {},
   "source": [
    "Tarea 1: Evaluación de HMM sobre el corpus \"cess-esp\" original y su versión con categorias reducidas"
   ]
  },
  {
   "cell_type": "code",
   "execution_count": 2,
   "metadata": {},
   "outputs": [],
   "source": [
    "#Creamos diez particiones del corpus original despúes de barajarlo para realizar Cross-Validation\n",
    "from random import shuffle \n",
    "corpus_original_barajado = corpus_original\n",
    "shuffle(corpus_original_barajado)\n",
    "particiones_original_train = []\n",
    "particiones_original_test = []\n",
    "longitud_particion = len(corpus_original_barajado)//10\n",
    "for i in range(0, 10):\n",
    "    particiones_original_train.append(corpus_original_barajado[0:i*longitud_particion] + corpus_original_barajado[(i + 1)*longitud_particion:])\n",
    "    particiones_original_test.append(corpus_original_barajado[i*longitud_particion:(i+1)*longitud_particion])   \n",
    "   "
   ]
  },
  {
   "cell_type": "code",
   "execution_count": 3,
   "metadata": {},
   "outputs": [],
   "source": [
    "#Calculamos el numero de palabras en las particiones de test barajadas para calcular el intervalo de error\n",
    "palabrasPorTestOriginal = []\n",
    "for particion in particiones_original_test:\n",
    "    palabras = 0\n",
    "    for sentence in particion:\n",
    "        for word in sentence:\n",
    "            palabras += 1\n",
    "    palabrasPorTestOriginal.append(palabras)"
   ]
  },
  {
   "cell_type": "code",
   "execution_count": 4,
   "metadata": {},
   "outputs": [
    {
     "name": "stdout",
     "output_type": "stream",
     "text": [
      "[0.8953882580853468, 0.8989419919737323, 0.8948849104859335, 0.9018255147527064, 0.8984038510260958, 0.8969146260074953, 0.8933657696011352, 0.8952231793265466, 0.8982609158113067, 0.8963759620775779]\n"
     ]
    }
   ],
   "source": [
    "#Entrenamos HMM con las 10 particiones barajadas\n",
    "from nltk import hmm\n",
    "precisionesHMMBarajadoOriginal = []\n",
    "for i in range(0,10):\n",
    "    tagger_hmm = hmm.HiddenMarkovModelTagger.train(particiones_original_train[i])\n",
    "    precisionesHMMBarajadoOriginal.append(tagger_hmm.evaluate(particiones_original_test[i]))\n",
    "print(precisionesHMMBarajadoOriginal) "
   ]
  },
  {
   "cell_type": "code",
   "execution_count": 5,
   "metadata": {},
   "outputs": [
    {
     "name": "stdout",
     "output_type": "stream",
     "text": [
      "Precisión e intervalos de confianza para HMM con validación cruzada barajado con categorias originales\n"
     ]
    },
    {
     "data": {
      "image/png": "[encoded data removed]",
      "text/plain": [
       "<Figure size 432x288 with 1 Axes>"
      ]
     },
     "metadata": {
      "needs_background": "light"
     },
     "output_type": "display_data"
    },
    {
     "name": "stdout",
     "output_type": "stream",
     "text": [
      "[0.8953882580853468, 0.8989419919737323, 0.8948849104859335, 0.9018255147527064, 0.8984038510260958, 0.8969146260074953, 0.8933657696011352, 0.8952231793265466, 0.8982609158113067, 0.8963759620775779]\n",
      "[0.0044004194152628025, 0.004264849736970564, 0.004299310538544602, 0.0042484459672881445, 0.00421513929974732, 0.004270186282224692, 0.004306698771792538, 0.00433723806414402, 0.0043210337863016, 0.004264744269452771]\n"
     ]
    }
   ],
   "source": [
    "#Calculamos los intervalos de confianza y representamos los resultados HMM \n",
    "from math import sqrt \n",
    "import matplotlib.pyplot as plt\n",
    "columnas = [1, 2, 3, 4, 5, 6 ,7 ,8 ,9 ,10]\n",
    "intervaloHMMOriginal = [] \n",
    "for i in range(0,len(precisionesHMMBarajadoOriginal)): \n",
    "    s = sqrt(precisionesHMMBarajadoOriginal[i]*(1-precisionesHMMBarajadoOriginal[i])/palabrasPorTestOriginal[i]) \n",
    "    r = 1.96*s \n",
    "    intervaloHMMOriginal.append(r) \n",
    "print(\"Precisión e intervalos de confianza para HMM con validación cruzada barajado con categorias originales\")\n",
    "plt.plot(columnas, precisionesHMMBarajadoOriginal, 'ro')\n",
    "plt.errorbar(columnas, precisionesHMMBarajadoOriginal, yerr=intervaloHMMOriginal,linestyle='None');\n",
    "plt.ylabel('Precisión')\n",
    "plt.xlabel('Partición')\n",
    "plt.ylim((0.85,0.96))\n",
    "plt.show()\n",
    "print(precisionesHMMBarajadoOriginal)\n",
    "print(intervaloHMMOriginal)"
   ]
  },
  {
   "cell_type": "code",
   "execution_count": 6,
   "metadata": {},
   "outputs": [],
   "source": [
    "#Creamos diez particiones del corpus tranformado despúes de barajarlo para realizar Cross-Validation\n",
    "from random import shuffle \n",
    "corpus_barajado = corpus_transformado\n",
    "shuffle(corpus_barajado)\n",
    "particiones_barajado_train = []\n",
    "particiones_barajado_test = []\n",
    "longitud_particion = len(corpus_transformado)//10\n",
    "for i in range(0, 10):\n",
    "    particiones_barajado_train.append(corpus_barajado[0:i*longitud_particion] + corpus_barajado[(i + 1)*longitud_particion:])\n",
    "    particiones_barajado_test.append(corpus_barajado[i*longitud_particion:(i+1)*longitud_particion]) "
   ]
  },
  {
   "cell_type": "code",
   "execution_count": 7,
   "metadata": {},
   "outputs": [],
   "source": [
    "#Calculamos el numero de palabras en las particiones de test barajadas para calcular el intervalo de error\n",
    "palabrasPorTestTrans = []\n",
    "for particion in particiones_barajado_test:\n",
    "    palabras = 0\n",
    "    for sentence in particion:\n",
    "        for word in sentence:\n",
    "            palabras += 1\n",
    "    palabrasPorTestTrans.append(palabras)"
   ]
  },
  {
   "cell_type": "code",
   "execution_count": 8,
   "metadata": {},
   "outputs": [
    {
     "name": "stdout",
     "output_type": "stream",
     "text": [
      "[0.9236210081815782, 0.9258201112188154, 0.9314790746035873, 0.9249850730065678, 0.9247391952309985, 0.9252894449924718, 0.9259463028169014, 0.924662589624631, 0.9276269631388634, 0.923133972559199]\n"
     ]
    }
   ],
   "source": [
    "#Entrenamos HMM con las 10 particiones barajadas\n",
    "from nltk import hmm\n",
    "precisionesHMMBarajadoTrans = []\n",
    "for i in range(0,10):\n",
    "    tagger_hmm = hmm.HiddenMarkovModelTagger.train(particiones_barajado_train[i])\n",
    "    precisionesHMMBarajadoTrans.append(tagger_hmm.evaluate(particiones_barajado_test[i]))\n",
    "print(precisionesHMMBarajadoTrans)"
   ]
  },
  {
   "cell_type": "code",
   "execution_count": 9,
   "metadata": {},
   "outputs": [
    {
     "name": "stdout",
     "output_type": "stream",
     "text": [
      "Precisión e intervalos de confianza para HMM con validación cruzada barajado con categorias reducidas\n"
     ]
    },
    {
     "data": {
      "image/png": "[encoded data removed]",
      "text/plain": [
       "<Figure size 432x288 with 1 Axes>"
      ]
     },
     "metadata": {
      "needs_background": "light"
     },
     "output_type": "display_data"
    },
    {
     "name": "stdout",
     "output_type": "stream",
     "text": [
      "[0.9236210081815782, 0.9258201112188154, 0.9314790746035873, 0.9249850730065678, 0.9247391952309985, 0.9252894449924718, 0.9259463028169014, 0.924662589624631, 0.9276269631388634, 0.923133972559199]\n",
      "[0.0037821837868149337, 0.0036687942034817874, 0.003570328176925133, 0.0038037949975512787, 0.0037723315634557893, 0.003713183749529917, 0.0038069150714890557, 0.003756144473955716, 0.003730827427146602, 0.0038000487549847287]\n"
     ]
    }
   ],
   "source": [
    "#Calculamos los intervalos de confianza y representamos los resultados HMM \n",
    "from math import sqrt \n",
    "import matplotlib.pyplot as plt\n",
    "columnas = [1, 2, 3, 4, 5, 6 ,7 ,8 ,9 ,10]\n",
    "intervaloHMMTrans = [] \n",
    "for i in range(0,len(precisionesHMMBarajadoTrans)): \n",
    "    s = sqrt(precisionesHMMBarajadoTrans[i]*(1-precisionesHMMBarajadoTrans[i])/palabrasPorTestTrans[i]) \n",
    "    r = 1.96*s \n",
    "    intervaloHMMTrans.append(r) \n",
    "print(\"Precisión e intervalos de confianza para HMM con validación cruzada barajado con categorias reducidas\")\n",
    "plt.plot(columnas, precisionesHMMBarajadoTrans, 'ro')\n",
    "plt.errorbar(columnas, precisionesHMMBarajadoTrans, yerr=intervaloHMMTrans,linestyle='None');\n",
    "plt.ylabel('Precisión')\n",
    "plt.xlabel('Partición')\n",
    "plt.ylim((0.85,0.96))\n",
    "plt.show()\n",
    "print(precisionesHMMBarajadoTrans)\n",
    "print(intervaloHMMTrans)"
   ]
  },
  {
   "cell_type": "code",
   "execution_count": null,
   "metadata": {},
   "outputs": [],
   "source": []
  }
 ],
 "metadata": {
  "kernelspec": {
   "display_name": "Python 3",
   "language": "python",
   "name": "python3"
  },
  "language_info": {
   "codemirror_mode": {
    "name": "ipython",
    "version": 3
   },
   "file_extension": ".py",
   "mimetype": "text/x-python",
   "name": "python",
   "nbconvert_exporter": "python",
   "pygments_lexer": "ipython3",
   "version": "3.8.3"
  }
 },
 "nbformat": 4,
 "nbformat_minor": 4
}
