{
  "nbformat": 4,
  "nbformat_minor": 0,
  "metadata": {
    "colab": {
      "name": "mnist.ipynb",
      "provenance": [],
      "collapsed_sections": []
    },
    "kernelspec": {
      "name": "python3",
      "display_name": "Python 3"
    },
    "accelerator": "GPU"
  },
  "cells": [
    {
      "cell_type": "code",
      "metadata": {
        "colab": {
          "base_uri": "https://localhost:8080/"
        },
        "id": "XcYtD3a6KbCT",
        "outputId": "c4207525-fa62-4372-9f25-40d1cf8d22f9"
      },
      "source": [
        "!pip3 install keras"
      ],
      "execution_count": 1,
      "outputs": [
        {
          "output_type": "stream",
          "text": [
            "Requirement already satisfied: keras in /usr/local/lib/python3.6/dist-packages (2.4.3)\n",
            "Requirement already satisfied: numpy>=1.9.1 in /usr/local/lib/python3.6/dist-packages (from keras) (1.19.4)\n",
            "Requirement already satisfied: h5py in /usr/local/lib/python3.6/dist-packages (from keras) (2.10.0)\n",
            "Requirement already satisfied: scipy>=0.14 in /usr/local/lib/python3.6/dist-packages (from keras) (1.4.1)\n",
            "Requirement already satisfied: pyyaml in /usr/local/lib/python3.6/dist-packages (from keras) (3.13)\n",
            "Requirement already satisfied: six in /usr/local/lib/python3.6/dist-packages (from h5py->keras) (1.15.0)\n"
          ],
          "name": "stdout"
        }
      ]
    },
    {
      "cell_type": "code",
      "metadata": {
        "colab": {
          "base_uri": "https://localhost:8080/"
        },
        "id": "qj-jZOwGKo1T",
        "outputId": "9998cfcb-153b-4518-9f2a-32fbb64ba8c2"
      },
      "source": [
        "from google.colab import drive\r\n",
        "drive.mount('/content/drive')"
      ],
      "execution_count": 2,
      "outputs": [
        {
          "output_type": "stream",
          "text": [
            "Mounted at /content/drive\n"
          ],
          "name": "stdout"
        }
      ]
    },
    {
      "cell_type": "code",
      "metadata": {
        "id": "Q6ywrA0HKrVa"
      },
      "source": [
        "from __future__ import print_function\r\n",
        "\r\n",
        "import keras\r\n",
        "from keras.callbacks import LearningRateScheduler as LRS\r\n",
        "\r\n",
        "from keras.datasets import mnist\r\n",
        "from keras.models import Sequential\r\n",
        "from keras.layers import Dense, Activation, Reshape\r\n",
        "from keras.layers.normalization import BatchNormalization as BN\r\n",
        "from keras.layers import GaussianNoise as GN\r\n",
        "from keras.optimizers import SGD\r\n",
        "\r\n",
        "from keras.preprocessing.image import ImageDataGenerator"
      ],
      "execution_count": 3,
      "outputs": []
    },
    {
      "cell_type": "code",
      "metadata": {
        "id": "hwmdhmvWK0u5"
      },
      "source": [
        "batch_size = 100\r\n",
        "num_classes = 10\r\n",
        "epochs = 75"
      ],
      "execution_count": 4,
      "outputs": []
    },
    {
      "cell_type": "code",
      "metadata": {
        "colab": {
          "base_uri": "https://localhost:8080/"
        },
        "id": "mKTFcxo5LOag",
        "outputId": "0152ec59-791a-4ba2-ab22-d056c961422c"
      },
      "source": [
        "# the data, shuffled and split between train and test sets\r\n",
        "(x_train, y_train), (x_test, y_test) = mnist.load_data()\r\n",
        "\r\n",
        "print(x_train.shape)\r\n",
        "\r\n",
        "# Mandatory to use ImageDataGenerator, it expects 4D Tensors\r\n",
        "x_train = x_train.reshape(60000,28,28,1)\r\n",
        "x_test = x_test.reshape(10000,28,28,1)\r\n",
        "x_train = x_train.astype('float32')\r\n",
        "x_test = x_test.astype('float32')\r\n",
        "\r\n",
        "# Normalize [0..255]-->[0..1]\r\n",
        "x_train /= 255\r\n",
        "x_test /= 255\r\n",
        "\r\n",
        "print(x_train.shape[0], 'train samples')\r\n",
        "print(x_test.shape[0], 'test samples')\r\n",
        "\r\n",
        "# convert class vectors to binary class matrices\r\n",
        "y_train = keras.utils.to_categorical(y_train, num_classes)\r\n",
        "y_test = keras.utils.to_categorical(y_test, num_classes)"
      ],
      "execution_count": 5,
      "outputs": [
        {
          "output_type": "stream",
          "text": [
            "Downloading data from https://storage.googleapis.com/tensorflow/tf-keras-datasets/mnist.npz\n",
            "11493376/11490434 [==============================] - 0s 0us/step\n",
            "(60000, 28, 28)\n",
            "60000 train samples\n",
            "10000 test samples\n"
          ],
          "name": "stdout"
        }
      ]
    },
    {
      "cell_type": "code",
      "metadata": {
        "id": "uzDWQ8j0v8Fa"
      },
      "source": [
        "## Data Augmentation with an ImageGenerator\r\n",
        "datagen = ImageDataGenerator(\r\n",
        "    width_shift_range=0.1,\r\n",
        "    height_shift_range=0.1,\r\n",
        "    horizontal_flip=False)"
      ],
      "execution_count": 6,
      "outputs": []
    },
    {
      "cell_type": "code",
      "metadata": {
        "colab": {
          "base_uri": "https://localhost:8080/"
        },
        "id": "T0biBz21LfO2",
        "outputId": "badcdeb8-b03f-479a-9662-c18d17fa53f4"
      },
      "source": [
        "model = Sequential()\r\n",
        "model.add(Reshape(target_shape=(784,), input_shape=(28,28,1)))\r\n",
        "model.add(GN(0.1))\r\n",
        "\r\n",
        "model.add(Dense(1024))\r\n",
        "model.add(BN())\r\n",
        "model.add(GN(0.2))\r\n",
        "model.add(Activation('relu'))\r\n",
        "\r\n",
        "model.add(Dense(1024))\r\n",
        "model.add(BN())\r\n",
        "model.add(GN(0.2))\r\n",
        "model.add(Activation('relu'))\r\n",
        "\r\n",
        "model.add(Dense(1024))\r\n",
        "model.add(BN())\r\n",
        "model.add(GN(0.2))\r\n",
        "model.add(Activation('relu'))\r\n",
        "\r\n",
        "model.add(Dense(num_classes, activation='softmax'))\r\n",
        "\r\n",
        "model.summary()"
      ],
      "execution_count": 7,
      "outputs": [
        {
          "output_type": "stream",
          "text": [
            "Model: \"sequential\"\n",
            "_________________________________________________________________\n",
            "Layer (type)                 Output Shape              Param #   \n",
            "=================================================================\n",
            "reshape (Reshape)            (None, 784)               0         \n",
            "_________________________________________________________________\n",
            "gaussian_noise (GaussianNois (None, 784)               0         \n",
            "_________________________________________________________________\n",
            "dense (Dense)                (None, 1024)              803840    \n",
            "_________________________________________________________________\n",
            "batch_normalization (BatchNo (None, 1024)              4096      \n",
            "_________________________________________________________________\n",
            "gaussian_noise_1 (GaussianNo (None, 1024)              0         \n",
            "_________________________________________________________________\n",
            "activation (Activation)      (None, 1024)              0         \n",
            "_________________________________________________________________\n",
            "dense_1 (Dense)              (None, 1024)              1049600   \n",
            "_________________________________________________________________\n",
            "batch_normalization_1 (Batch (None, 1024)              4096      \n",
            "_________________________________________________________________\n",
            "gaussian_noise_2 (GaussianNo (None, 1024)              0         \n",
            "_________________________________________________________________\n",
            "activation_1 (Activation)    (None, 1024)              0         \n",
            "_________________________________________________________________\n",
            "dense_2 (Dense)              (None, 1024)              1049600   \n",
            "_________________________________________________________________\n",
            "batch_normalization_2 (Batch (None, 1024)              4096      \n",
            "_________________________________________________________________\n",
            "gaussian_noise_3 (GaussianNo (None, 1024)              0         \n",
            "_________________________________________________________________\n",
            "activation_2 (Activation)    (None, 1024)              0         \n",
            "_________________________________________________________________\n",
            "dense_3 (Dense)              (None, 10)                10250     \n",
            "=================================================================\n",
            "Total params: 2,925,578\n",
            "Trainable params: 2,919,434\n",
            "Non-trainable params: 6,144\n",
            "_________________________________________________________________\n"
          ],
          "name": "stdout"
        }
      ]
    },
    {
      "cell_type": "code",
      "metadata": {
        "id": "PnIeh8ezLow1"
      },
      "source": [
        "sgd=SGD(lr=0.1, decay=0.0, momentum=0.0)"
      ],
      "execution_count": 8,
      "outputs": []
    },
    {
      "cell_type": "code",
      "metadata": {
        "id": "-w5Y5vGGLr27"
      },
      "source": [
        "## define a learning rate scheduler\r\n",
        "def scheduler(epoch):\r\n",
        "    if epoch < 25:\r\n",
        "        return .1\r\n",
        "    elif epoch < 50:\r\n",
        "        return 0.01\r\n",
        "    else:\r\n",
        "        return 0.001\r\n",
        "\r\n",
        "set_lr = LRS(scheduler)\r\n",
        "###"
      ],
      "execution_count": 9,
      "outputs": []
    },
    {
      "cell_type": "code",
      "metadata": {
        "id": "pmd0UevhLu49"
      },
      "source": [
        "model.compile(loss='categorical_crossentropy',\r\n",
        "              optimizer=sgd,\r\n",
        "              metrics=['accuracy'])"
      ],
      "execution_count": 10,
      "outputs": []
    },
    {
      "cell_type": "code",
      "metadata": {
        "colab": {
          "base_uri": "https://localhost:8080/"
        },
        "id": "inuXQRODLxo1",
        "outputId": "a8ca23f6-0560-44c2-fd84-9146423f1609"
      },
      "source": [
        "## Training, note the callbacks list\r\n",
        "history=model.fit_generator(datagen.flow(x_train, y_train,batch_size=batch_size),\r\n",
        "                            steps_per_epoch=len(x_train) / batch_size, \r\n",
        "                            epochs=epochs,\r\n",
        "                            validation_data=(x_test, y_test),\r\n",
        "                            callbacks=[set_lr],\r\n",
        "                            verbose=1)"
      ],
      "execution_count": 11,
      "outputs": [
        {
          "output_type": "stream",
          "text": [
            "/usr/local/lib/python3.6/dist-packages/tensorflow/python/keras/engine/training.py:1844: UserWarning: `Model.fit_generator` is deprecated and will be removed in a future version. Please use `Model.fit`, which supports generators.\n",
            "  warnings.warn('`Model.fit_generator` is deprecated and '\n"
          ],
          "name": "stderr"
        },
        {
          "output_type": "stream",
          "text": [
            "Epoch 1/75\n",
            "600/600 [==============================] - 15s 22ms/step - loss: 0.5789 - accuracy: 0.8160 - val_loss: 0.1024 - val_accuracy: 0.9689\n",
            "Epoch 2/75\n",
            "600/600 [==============================] - 12s 21ms/step - loss: 0.1948 - accuracy: 0.9400 - val_loss: 0.0702 - val_accuracy: 0.9769\n",
            "Epoch 3/75\n",
            "600/600 [==============================] - 13s 21ms/step - loss: 0.1545 - accuracy: 0.9504 - val_loss: 0.0707 - val_accuracy: 0.9766\n",
            "Epoch 4/75\n",
            "600/600 [==============================] - 12s 21ms/step - loss: 0.1337 - accuracy: 0.9590 - val_loss: 0.0579 - val_accuracy: 0.9820\n",
            "Epoch 5/75\n",
            "600/600 [==============================] - 12s 21ms/step - loss: 0.1180 - accuracy: 0.9626 - val_loss: 0.0533 - val_accuracy: 0.9818\n",
            "Epoch 6/75\n",
            "600/600 [==============================] - 12s 20ms/step - loss: 0.1071 - accuracy: 0.9671 - val_loss: 0.0528 - val_accuracy: 0.9828\n",
            "Epoch 7/75\n",
            "600/600 [==============================] - 12s 21ms/step - loss: 0.0944 - accuracy: 0.9696 - val_loss: 0.0472 - val_accuracy: 0.9840\n",
            "Epoch 8/75\n",
            "600/600 [==============================] - 12s 21ms/step - loss: 0.0898 - accuracy: 0.9704 - val_loss: 0.0477 - val_accuracy: 0.9837\n",
            "Epoch 9/75\n",
            "600/600 [==============================] - 12s 20ms/step - loss: 0.0898 - accuracy: 0.9716 - val_loss: 0.0463 - val_accuracy: 0.9854\n",
            "Epoch 10/75\n",
            "600/600 [==============================] - 12s 21ms/step - loss: 0.0814 - accuracy: 0.9749 - val_loss: 0.0411 - val_accuracy: 0.9861\n",
            "Epoch 11/75\n",
            "600/600 [==============================] - 12s 21ms/step - loss: 0.0781 - accuracy: 0.9740 - val_loss: 0.0448 - val_accuracy: 0.9853\n",
            "Epoch 12/75\n",
            "600/600 [==============================] - 12s 20ms/step - loss: 0.0744 - accuracy: 0.9762 - val_loss: 0.0393 - val_accuracy: 0.9874\n",
            "Epoch 13/75\n",
            "600/600 [==============================] - 12s 21ms/step - loss: 0.0713 - accuracy: 0.9772 - val_loss: 0.0463 - val_accuracy: 0.9852\n",
            "Epoch 14/75\n",
            "600/600 [==============================] - 12s 21ms/step - loss: 0.0732 - accuracy: 0.9776 - val_loss: 0.0416 - val_accuracy: 0.9863\n",
            "Epoch 15/75\n",
            "600/600 [==============================] - 12s 21ms/step - loss: 0.0732 - accuracy: 0.9766 - val_loss: 0.0418 - val_accuracy: 0.9865\n",
            "Epoch 16/75\n",
            "600/600 [==============================] - 12s 20ms/step - loss: 0.0660 - accuracy: 0.9790 - val_loss: 0.0383 - val_accuracy: 0.9877\n",
            "Epoch 17/75\n",
            "600/600 [==============================] - 12s 21ms/step - loss: 0.0625 - accuracy: 0.9794 - val_loss: 0.0355 - val_accuracy: 0.9887\n",
            "Epoch 18/75\n",
            "600/600 [==============================] - 12s 21ms/step - loss: 0.0645 - accuracy: 0.9792 - val_loss: 0.0383 - val_accuracy: 0.9874\n",
            "Epoch 19/75\n",
            "600/600 [==============================] - 13s 21ms/step - loss: 0.0600 - accuracy: 0.9803 - val_loss: 0.0350 - val_accuracy: 0.9873\n",
            "Epoch 20/75\n",
            "600/600 [==============================] - 13s 21ms/step - loss: 0.0588 - accuracy: 0.9814 - val_loss: 0.0402 - val_accuracy: 0.9860\n",
            "Epoch 21/75\n",
            "600/600 [==============================] - 12s 21ms/step - loss: 0.0566 - accuracy: 0.9816 - val_loss: 0.0342 - val_accuracy: 0.9878\n",
            "Epoch 22/75\n",
            "600/600 [==============================] - 12s 21ms/step - loss: 0.0559 - accuracy: 0.9819 - val_loss: 0.0354 - val_accuracy: 0.9890\n",
            "Epoch 23/75\n",
            "600/600 [==============================] - 13s 21ms/step - loss: 0.0552 - accuracy: 0.9818 - val_loss: 0.0288 - val_accuracy: 0.9899\n",
            "Epoch 24/75\n",
            "600/600 [==============================] - 12s 21ms/step - loss: 0.0507 - accuracy: 0.9838 - val_loss: 0.0361 - val_accuracy: 0.9880\n",
            "Epoch 25/75\n",
            "600/600 [==============================] - 12s 21ms/step - loss: 0.0535 - accuracy: 0.9828 - val_loss: 0.0288 - val_accuracy: 0.9908\n",
            "Epoch 26/75\n",
            "600/600 [==============================] - 12s 21ms/step - loss: 0.0474 - accuracy: 0.9842 - val_loss: 0.0259 - val_accuracy: 0.9914\n",
            "Epoch 27/75\n",
            "600/600 [==============================] - 12s 21ms/step - loss: 0.0409 - accuracy: 0.9876 - val_loss: 0.0257 - val_accuracy: 0.9915\n",
            "Epoch 28/75\n",
            "600/600 [==============================] - 12s 21ms/step - loss: 0.0424 - accuracy: 0.9864 - val_loss: 0.0257 - val_accuracy: 0.9916\n",
            "Epoch 29/75\n",
            "600/600 [==============================] - 12s 20ms/step - loss: 0.0399 - accuracy: 0.9868 - val_loss: 0.0254 - val_accuracy: 0.9920\n",
            "Epoch 30/75\n",
            "600/600 [==============================] - 12s 21ms/step - loss: 0.0401 - accuracy: 0.9873 - val_loss: 0.0249 - val_accuracy: 0.9916\n",
            "Epoch 31/75\n",
            "600/600 [==============================] - 12s 20ms/step - loss: 0.0392 - accuracy: 0.9872 - val_loss: 0.0256 - val_accuracy: 0.9917\n",
            "Epoch 32/75\n",
            "600/600 [==============================] - 12s 20ms/step - loss: 0.0379 - accuracy: 0.9880 - val_loss: 0.0251 - val_accuracy: 0.9915\n",
            "Epoch 33/75\n",
            "600/600 [==============================] - 12s 21ms/step - loss: 0.0358 - accuracy: 0.9888 - val_loss: 0.0252 - val_accuracy: 0.9920\n",
            "Epoch 34/75\n",
            "600/600 [==============================] - 12s 21ms/step - loss: 0.0379 - accuracy: 0.9872 - val_loss: 0.0254 - val_accuracy: 0.9915\n",
            "Epoch 35/75\n",
            "600/600 [==============================] - 12s 21ms/step - loss: 0.0387 - accuracy: 0.9880 - val_loss: 0.0248 - val_accuracy: 0.9918\n",
            "Epoch 36/75\n",
            "600/600 [==============================] - 12s 21ms/step - loss: 0.0383 - accuracy: 0.9869 - val_loss: 0.0254 - val_accuracy: 0.9916\n",
            "Epoch 37/75\n",
            "600/600 [==============================] - 12s 21ms/step - loss: 0.0352 - accuracy: 0.9889 - val_loss: 0.0254 - val_accuracy: 0.9918\n",
            "Epoch 38/75\n",
            "600/600 [==============================] - 12s 20ms/step - loss: 0.0355 - accuracy: 0.9890 - val_loss: 0.0254 - val_accuracy: 0.9915\n",
            "Epoch 39/75\n",
            "600/600 [==============================] - 12s 21ms/step - loss: 0.0364 - accuracy: 0.9884 - val_loss: 0.0256 - val_accuracy: 0.9917\n",
            "Epoch 40/75\n",
            "600/600 [==============================] - 13s 21ms/step - loss: 0.0387 - accuracy: 0.9872 - val_loss: 0.0255 - val_accuracy: 0.9914\n",
            "Epoch 41/75\n",
            "600/600 [==============================] - 12s 21ms/step - loss: 0.0371 - accuracy: 0.9882 - val_loss: 0.0255 - val_accuracy: 0.9913\n",
            "Epoch 42/75\n",
            "600/600 [==============================] - 12s 21ms/step - loss: 0.0352 - accuracy: 0.9891 - val_loss: 0.0246 - val_accuracy: 0.9918\n",
            "Epoch 43/75\n",
            "600/600 [==============================] - 12s 21ms/step - loss: 0.0347 - accuracy: 0.9890 - val_loss: 0.0249 - val_accuracy: 0.9914\n",
            "Epoch 44/75\n",
            "600/600 [==============================] - 12s 21ms/step - loss: 0.0350 - accuracy: 0.9886 - val_loss: 0.0254 - val_accuracy: 0.9914\n",
            "Epoch 45/75\n",
            "600/600 [==============================] - 13s 21ms/step - loss: 0.0353 - accuracy: 0.9889 - val_loss: 0.0250 - val_accuracy: 0.9918\n",
            "Epoch 46/75\n",
            "600/600 [==============================] - 13s 21ms/step - loss: 0.0323 - accuracy: 0.9896 - val_loss: 0.0243 - val_accuracy: 0.9916\n",
            "Epoch 47/75\n",
            "600/600 [==============================] - 12s 21ms/step - loss: 0.0367 - accuracy: 0.9885 - val_loss: 0.0247 - val_accuracy: 0.9917\n",
            "Epoch 48/75\n",
            "600/600 [==============================] - 12s 21ms/step - loss: 0.0348 - accuracy: 0.9895 - val_loss: 0.0245 - val_accuracy: 0.9921\n",
            "Epoch 49/75\n",
            "600/600 [==============================] - 12s 20ms/step - loss: 0.0343 - accuracy: 0.9898 - val_loss: 0.0244 - val_accuracy: 0.9918\n",
            "Epoch 50/75\n",
            "600/600 [==============================] - 12s 20ms/step - loss: 0.0355 - accuracy: 0.9887 - val_loss: 0.0243 - val_accuracy: 0.9922\n",
            "Epoch 51/75\n",
            "600/600 [==============================] - 12s 21ms/step - loss: 0.0325 - accuracy: 0.9897 - val_loss: 0.0246 - val_accuracy: 0.9921\n",
            "Epoch 52/75\n",
            "600/600 [==============================] - 12s 21ms/step - loss: 0.0339 - accuracy: 0.9887 - val_loss: 0.0242 - val_accuracy: 0.9923\n",
            "Epoch 53/75\n",
            "600/600 [==============================] - 12s 21ms/step - loss: 0.0332 - accuracy: 0.9892 - val_loss: 0.0241 - val_accuracy: 0.9921\n",
            "Epoch 54/75\n",
            "600/600 [==============================] - 12s 21ms/step - loss: 0.0328 - accuracy: 0.9891 - val_loss: 0.0242 - val_accuracy: 0.9924\n",
            "Epoch 55/75\n",
            "600/600 [==============================] - 12s 20ms/step - loss: 0.0327 - accuracy: 0.9891 - val_loss: 0.0243 - val_accuracy: 0.9925\n",
            "Epoch 56/75\n",
            "600/600 [==============================] - 12s 21ms/step - loss: 0.0338 - accuracy: 0.9894 - val_loss: 0.0242 - val_accuracy: 0.9924\n",
            "Epoch 57/75\n",
            "600/600 [==============================] - 12s 21ms/step - loss: 0.0322 - accuracy: 0.9903 - val_loss: 0.0245 - val_accuracy: 0.9921\n",
            "Epoch 58/75\n",
            "600/600 [==============================] - 12s 21ms/step - loss: 0.0325 - accuracy: 0.9899 - val_loss: 0.0242 - val_accuracy: 0.9923\n",
            "Epoch 59/75\n",
            "600/600 [==============================] - 12s 21ms/step - loss: 0.0347 - accuracy: 0.9891 - val_loss: 0.0242 - val_accuracy: 0.9923\n",
            "Epoch 60/75\n",
            "600/600 [==============================] - 12s 21ms/step - loss: 0.0341 - accuracy: 0.9892 - val_loss: 0.0241 - val_accuracy: 0.9924\n",
            "Epoch 61/75\n",
            "600/600 [==============================] - 13s 21ms/step - loss: 0.0320 - accuracy: 0.9899 - val_loss: 0.0242 - val_accuracy: 0.9920\n",
            "Epoch 62/75\n",
            "600/600 [==============================] - 12s 21ms/step - loss: 0.0335 - accuracy: 0.9896 - val_loss: 0.0242 - val_accuracy: 0.9924\n",
            "Epoch 63/75\n",
            "600/600 [==============================] - 13s 21ms/step - loss: 0.0329 - accuracy: 0.9899 - val_loss: 0.0240 - val_accuracy: 0.9924\n",
            "Epoch 64/75\n",
            "600/600 [==============================] - 13s 21ms/step - loss: 0.0341 - accuracy: 0.9890 - val_loss: 0.0243 - val_accuracy: 0.9922\n",
            "Epoch 65/75\n",
            "600/600 [==============================] - 12s 21ms/step - loss: 0.0350 - accuracy: 0.9881 - val_loss: 0.0239 - val_accuracy: 0.9924\n",
            "Epoch 66/75\n",
            "600/600 [==============================] - 13s 21ms/step - loss: 0.0315 - accuracy: 0.9903 - val_loss: 0.0240 - val_accuracy: 0.9923\n",
            "Epoch 67/75\n",
            "600/600 [==============================] - 12s 21ms/step - loss: 0.0329 - accuracy: 0.9893 - val_loss: 0.0243 - val_accuracy: 0.9924\n",
            "Epoch 68/75\n",
            "600/600 [==============================] - 12s 21ms/step - loss: 0.0325 - accuracy: 0.9895 - val_loss: 0.0240 - val_accuracy: 0.9923\n",
            "Epoch 69/75\n",
            "600/600 [==============================] - 12s 21ms/step - loss: 0.0342 - accuracy: 0.9890 - val_loss: 0.0240 - val_accuracy: 0.9923\n",
            "Epoch 70/75\n",
            "600/600 [==============================] - 13s 21ms/step - loss: 0.0319 - accuracy: 0.9902 - val_loss: 0.0241 - val_accuracy: 0.9924\n",
            "Epoch 71/75\n",
            "600/600 [==============================] - 12s 21ms/step - loss: 0.0319 - accuracy: 0.9898 - val_loss: 0.0241 - val_accuracy: 0.9924\n",
            "Epoch 72/75\n",
            "600/600 [==============================] - 12s 21ms/step - loss: 0.0311 - accuracy: 0.9900 - val_loss: 0.0241 - val_accuracy: 0.9923\n",
            "Epoch 73/75\n",
            "600/600 [==============================] - 12s 21ms/step - loss: 0.0321 - accuracy: 0.9890 - val_loss: 0.0238 - val_accuracy: 0.9924\n",
            "Epoch 74/75\n",
            "600/600 [==============================] - 12s 21ms/step - loss: 0.0333 - accuracy: 0.9894 - val_loss: 0.0240 - val_accuracy: 0.9921\n",
            "Epoch 75/75\n",
            "600/600 [==============================] - 12s 21ms/step - loss: 0.0300 - accuracy: 0.9912 - val_loss: 0.0241 - val_accuracy: 0.9924\n"
          ],
          "name": "stdout"
        }
      ]
    },
    {
      "cell_type": "code",
      "metadata": {
        "colab": {
          "base_uri": "https://localhost:8080/"
        },
        "id": "jjxycbXpokl2",
        "outputId": "b449d26f-1f7f-4a1a-dcae-6e72f77c9ae2"
      },
      "source": [
        "## Test\r\n",
        "score = model.evaluate(x_test, y_test, verbose=0)\r\n",
        "\r\n",
        "print('Test loss:', score[0])\r\n",
        "print('Test accuracy:', score[1])"
      ],
      "execution_count": 12,
      "outputs": [
        {
          "output_type": "stream",
          "text": [
            "Test loss: 0.024102460592985153\n",
            "Test accuracy: 0.9923999905586243\n"
          ],
          "name": "stdout"
        }
      ]
    },
    {
      "cell_type": "code",
      "metadata": {
        "id": "KdewiR512O_3"
      },
      "source": [
        "import matplotlib.pyplot as plt\r\n"
      ],
      "execution_count": 13,
      "outputs": []
    },
    {
      "cell_type": "code",
      "metadata": {
        "colab": {
          "base_uri": "https://localhost:8080/",
          "height": 295
        },
        "id": "spJASx2YMJg7",
        "outputId": "7a0693a4-bbe4-4505-d363-71aa1ec37313"
      },
      "source": [
        "plt.plot(history.history['accuracy'])\r\n",
        "plt.plot(history.history['val_accuracy'])\r\n",
        "plt.title('model accuracy')\r\n",
        "plt.ylabel('accuracy')\r\n",
        "plt.xlabel('epoch')\r\n",
        "plt.legend(['train', 'test'], loc='upper left')\r\n",
        "plt.show()"
      ],
      "execution_count": 14,
      "outputs": [
        {
          "output_type": "display_data",
          "data": {
            "image/png": "[encoded data removed]",
            "text/plain": [
              "<Figure size 432x288 with 1 Axes>"
            ]
          },
          "metadata": {
            "tags": [],
            "needs_background": "light"
          }
        }
      ]
    },
    {
      "cell_type": "code",
      "metadata": {
        "id": "qDLHxCT0228f"
      },
      "source": [
        "model.save_weights('./checkpoints/my_checkpoint')"
      ],
      "execution_count": 15,
      "outputs": []
    }
  ]
}