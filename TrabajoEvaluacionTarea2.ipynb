{
 "cells": [
  {
   "cell_type": "code",
   "execution_count": 1,
   "metadata": {},
   "outputs": [],
   "source": [
    "import nltk\n",
    "from nltk.corpus import cess_esp\n",
    "corpus_sentences = cess_esp.tagged_sents()\n",
    "#Transformamos el corpus para reducir categorias como en la practica 2\n",
    "corpus_transformado = []\n",
    "corpus_original = []\n",
    "for sentence in corpus_sentences:\n",
    "    sentence_aux = []\n",
    "    for word, label in sentence:\n",
    "        if(word != \"*0*\"):\n",
    "            if(label.startswith(\"v\") or label.startswith(\"F\")):\n",
    "                sentence_aux.append((word, label[0:3]))\n",
    "            else:\n",
    "                sentence_aux.append((word, label[0:2]))\n",
    "    corpus_transformado.append(sentence_aux) "
   ]
  },
  {
   "cell_type": "code",
   "execution_count": 2,
   "metadata": {},
   "outputs": [
    {
     "name": "stdout",
     "output_type": "stream",
     "text": [
      "[0.8388880196109112, 0.8725812340270171, 0.8893756845564075, 0.8980858498930788, 0.9058050383351588, 0.9123246231679967, 0.9169665675689772, 0.9207218484326918, 0.9244249726177437]\n"
     ]
    }
   ],
   "source": [
    "\n",
    "from random import shuffle \n",
    "corpus_barajado = corpus_transformado\n",
    "shuffle(corpus_barajado)\n",
    "longitud_particion = len(corpus_transformado)//10\n",
    "from nltk import hmm\n",
    "precisionesHMMBarajado = []\n",
    "for i in range(1,10):\n",
    "    tagger_hmm = hmm.HiddenMarkovModelTagger.train(corpus_barajado[0:i*longitud_particion])\n",
    "    precisionesHMMBarajado.append(tagger_hmm.evaluate(corpus_barajado[9*longitud_particion:]))\n",
    "palabrasTest = 0\n",
    "for sentence in corpus_barajado[9*longitud_particion:]:\n",
    "    for word in sentence:\n",
    "        palabrasTest += 1   \n",
    "print(precisionesHMMBarajado)    "
   ]
  },
  {
   "cell_type": "code",
   "execution_count": 3,
   "metadata": {},
   "outputs": [
    {
     "name": "stdout",
     "output_type": "stream",
     "text": [
      "Precisión e intervalos de confianza para HMM con validación cruzada barajado con categorias reducidas\n"
     ]
    },
    {
     "data": {
      "image/png": "[encoded data removed]",
      "text/plain": [
       "<Figure size 432x288 with 1 Axes>"
      ]
     },
     "metadata": {
      "needs_background": "light"
     },
     "output_type": "display_data"
    },
    {
     "name": "stdout",
     "output_type": "stream",
     "text": [
      "[0.8388880196109112, 0.8725812340270171, 0.8893756845564075, 0.8980858498930788, 0.9058050383351588, 0.9123246231679967, 0.9169665675689772, 0.9207218484326918, 0.9244249726177437]\n",
      "[0.005203876117988665, 0.0047198768462755, 0.00443995899469249, 0.004282399756307457, 0.004134683186921198, 0.004003359156093221, 0.003905838496941841, 0.003824300563957961, 0.003741416234472441]\n"
     ]
    }
   ],
   "source": [
    "#Calculamos los intervalos de confianza y representamos los resultados HMM \n",
    "from math import sqrt \n",
    "import matplotlib.pyplot as plt\n",
    "columnas = [603, 1206, 1809, 2412, 3015, 3618 ,4221 ,4824 ,5427]\n",
    "intervaloHMM = [] \n",
    "for precision in precisionesHMMBarajado: \n",
    "    s = sqrt(precision*(1-precision)/palabrasTest) \n",
    "    r = 1.96*s \n",
    "    intervaloHMM.append(r) \n",
    "print(\"Precisión e intervalos de confianza para HMM con validación cruzada barajado con categorias reducidas\")\n",
    "plt.plot(columnas, precisionesHMMBarajado, 'ro')\n",
    "plt.errorbar(columnas, precisionesHMMBarajado, yerr=intervaloHMM,linestyle='None');\n",
    "plt.ylabel('Precisión')\n",
    "plt.xlabel('Longitud partición entrenamiento')\n",
    "plt.show()\n",
    "print(precisionesHMMBarajado)\n",
    "print(intervaloHMM)"
   ]
  },
  {
   "cell_type": "code",
   "execution_count": null,
   "metadata": {},
   "outputs": [],
   "source": []
  },
  {
   "cell_type": "code",
   "execution_count": null,
   "metadata": {},
   "outputs": [],
   "source": []
  }
 ],
 "metadata": {
  "kernelspec": {
   "display_name": "Python 3",
   "language": "python",
   "name": "python3"
  },
  "language_info": {
   "codemirror_mode": {
    "name": "ipython",
    "version": 3
   },
   "file_extension": ".py",
   "mimetype": "text/x-python",
   "name": "python",
   "nbconvert_exporter": "python",
   "pygments_lexer": "ipython3",
   "version": "3.8.3"
  }
 },
 "nbformat": 4,
 "nbformat_minor": 4
}
