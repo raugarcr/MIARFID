{
  "nbformat": 4,
  "nbformat_minor": 0,
  "metadata": {
    "colab": {
      "name": "cifar_9230.ipynb",
      "provenance": [],
      "collapsed_sections": []
    },
    "kernelspec": {
      "name": "python3",
      "display_name": "Python 3"
    },
    "accelerator": "GPU"
  },
  "cells": [
    {
      "cell_type": "code",
      "metadata": {
        "colab": {
          "base_uri": "https://localhost:8080/"
        },
        "id": "RDGAq3WkAfkm",
        "outputId": "2246fd29-9d8f-48d0-d0ab-14cfde90c05b"
      },
      "source": [
        "!pip3 install keras"
      ],
      "execution_count": null,
      "outputs": [
        {
          "output_type": "stream",
          "text": [
            "Requirement already satisfied: keras in /usr/local/lib/python3.6/dist-packages (2.4.3)\n",
            "Requirement already satisfied: h5py in /usr/local/lib/python3.6/dist-packages (from keras) (2.10.0)\n",
            "Requirement already satisfied: scipy>=0.14 in /usr/local/lib/python3.6/dist-packages (from keras) (1.4.1)\n",
            "Requirement already satisfied: numpy>=1.9.1 in /usr/local/lib/python3.6/dist-packages (from keras) (1.19.4)\n",
            "Requirement already satisfied: pyyaml in /usr/local/lib/python3.6/dist-packages (from keras) (3.13)\n",
            "Requirement already satisfied: six in /usr/local/lib/python3.6/dist-packages (from h5py->keras) (1.15.0)\n"
          ],
          "name": "stdout"
        }
      ]
    },
    {
      "cell_type": "code",
      "metadata": {
        "id": "kDODMVWvAshs"
      },
      "source": [
        "from __future__ import print_function\r\n",
        "import keras\r\n",
        "from keras.datasets import cifar10\r\n",
        "from keras.models import Sequential\r\n",
        "from keras.layers import Dense, Dropout, Activation, Flatten\r\n",
        "from keras.layers import Conv2D, MaxPooling2D\r\n",
        "from keras.layers.normalization import BatchNormalization as BN\r\n",
        "from keras.layers import GaussianNoise as GN\r\n",
        "from keras.optimizers import SGD\r\n",
        "\r\n",
        "from keras.callbacks import LearningRateScheduler as LRS\r\n",
        "from keras.callbacks import ReduceLROnPlateau, ModelCheckpoint\r\n",
        "from keras.preprocessing.image import ImageDataGenerator"
      ],
      "execution_count": 1,
      "outputs": []
    },
    {
      "cell_type": "code",
      "metadata": {
        "id": "c6ziOFXWAv2M"
      },
      "source": [
        "batch_size = 32\r\n",
        "num_classes = 10\r\n",
        "epochs = 50"
      ],
      "execution_count": 2,
      "outputs": []
    },
    {
      "cell_type": "code",
      "metadata": {
        "colab": {
          "base_uri": "https://localhost:8080/"
        },
        "id": "CmJWC_u1AzLU",
        "outputId": "9a4d7507-5734-4b8f-9afe-5d28ac195cc3"
      },
      "source": [
        "#### LOAD AND TRANSFORM\r\n",
        "(x_train, y_train), (x_test, y_test) = cifar10.load_data()\r\n",
        "\r\n",
        "x_train = x_train.astype('float32')\r\n",
        "x_test = x_test.astype('float32')\r\n",
        "\r\n",
        "x_train /= 255\r\n",
        "x_test /= 255\r\n",
        "\r\n",
        "print(x_train.shape)\r\n",
        "print(x_test.shape)\r\n",
        "\r\n",
        "y_train = keras.utils.to_categorical(y_train, num_classes)\r\n",
        "y_test = keras.utils.to_categorical(y_test, num_classes)"
      ],
      "execution_count": 3,
      "outputs": [
        {
          "output_type": "stream",
          "text": [
            "Downloading data from https://www.cs.toronto.edu/~kriz/cifar-10-python.tar.gz\n",
            "170500096/170498071 [==============================] - 2s 0us/step\n",
            "(50000, 32, 32, 3)\n",
            "(10000, 32, 32, 3)\n"
          ],
          "name": "stdout"
        }
      ]
    },
    {
      "cell_type": "code",
      "metadata": {
        "id": "JL5f6XpAA20z"
      },
      "source": [
        "## DEFINE A DATA AUGMENTATION GENERATOR\r\n",
        "\r\n",
        "datagen = ImageDataGenerator(\r\n",
        "    width_shift_range=0.2,\r\n",
        "    height_shift_range=0.2,\r\n",
        "    rotation_range = 10,\r\n",
        "    zoom_range = 0.2,\r\n",
        "    horizontal_flip=True)"
      ],
      "execution_count": 4,
      "outputs": []
    },
    {
      "cell_type": "code",
      "metadata": {
        "id": "aCfTknysA51s"
      },
      "source": [
        "## DEF A BLOCK CONV + BN + GN + MAXPOOL\r\n",
        "def CBGN(model,filters,ishape=0):\r\n",
        "  if (ishape!=0):\r\n",
        "    model.add(Conv2D(filters, (3, 3), padding='same',\r\n",
        "                 input_shape=ishape))\r\n",
        "  else:\r\n",
        "    model.add(Conv2D(filters, (3, 3), padding='same'))\r\n",
        "  \r\n",
        "  model.add(BN())\r\n",
        "  model.add(Activation('relu'))\r\n",
        "  model.add(Conv2D(filters, (3, 3), padding='same'))\r\n",
        "  model.add(BN())\r\n",
        "  model.add(Activation('relu'))\r\n",
        "  model.add(Conv2D(filters, (3, 3), padding='same'))\r\n",
        "  model.add(BN())\r\n",
        "  model.add(Activation('relu'))\r\n",
        "  model.add(MaxPooling2D(pool_size=(2, 2)))\r\n",
        "  \r\n",
        "  return model"
      ],
      "execution_count": 5,
      "outputs": []
    },
    {
      "cell_type": "code",
      "metadata": {
        "colab": {
          "base_uri": "https://localhost:8080/"
        },
        "id": "8qTFzHeYA_AF",
        "outputId": "eda6b81c-7c47-415b-e848-0250361bda1e"
      },
      "source": [
        "## DEF NN TOPOLOGY  \r\n",
        "model = Sequential()\r\n",
        "\r\n",
        "model=CBGN(model,32,x_train.shape[1:])\r\n",
        "model=CBGN(model,64)\r\n",
        "#model.add(Dropout(0.1))\r\n",
        "model=CBGN(model,128)\r\n",
        "#model.add(Dropout(0.1))\r\n",
        "model=CBGN(model,256)\r\n",
        "#model.add(Dropout(0.2))\r\n",
        "model=CBGN(model,512)\r\n",
        "#model.add(Dropout(0.2))\r\n",
        "\r\n",
        "\r\n",
        "model.add(Flatten())\r\n",
        "model.add(Dense(512))\r\n",
        "model.add(Activation('relu'))\r\n",
        "\r\n",
        "model.add(Dense(num_classes))\r\n",
        "model.add(Activation('softmax'))\r\n",
        "\r\n",
        "\r\n",
        "model.summary()"
      ],
      "execution_count": 6,
      "outputs": [
        {
          "output_type": "stream",
          "text": [
            "Model: \"sequential\"\n",
            "_________________________________________________________________\n",
            "Layer (type)                 Output Shape              Param #   \n",
            "=================================================================\n",
            "conv2d (Conv2D)              (None, 32, 32, 32)        896       \n",
            "_________________________________________________________________\n",
            "batch_normalization (BatchNo (None, 32, 32, 32)        128       \n",
            "_________________________________________________________________\n",
            "activation (Activation)      (None, 32, 32, 32)        0         \n",
            "_________________________________________________________________\n",
            "conv2d_1 (Conv2D)            (None, 32, 32, 32)        9248      \n",
            "_________________________________________________________________\n",
            "batch_normalization_1 (Batch (None, 32, 32, 32)        128       \n",
            "_________________________________________________________________\n",
            "activation_1 (Activation)    (None, 32, 32, 32)        0         \n",
            "_________________________________________________________________\n",
            "conv2d_2 (Conv2D)            (None, 32, 32, 32)        9248      \n",
            "_________________________________________________________________\n",
            "batch_normalization_2 (Batch (None, 32, 32, 32)        128       \n",
            "_________________________________________________________________\n",
            "activation_2 (Activation)    (None, 32, 32, 32)        0         \n",
            "_________________________________________________________________\n",
            "max_pooling2d (MaxPooling2D) (None, 16, 16, 32)        0         \n",
            "_________________________________________________________________\n",
            "conv2d_3 (Conv2D)            (None, 16, 16, 64)        18496     \n",
            "_________________________________________________________________\n",
            "batch_normalization_3 (Batch (None, 16, 16, 64)        256       \n",
            "_________________________________________________________________\n",
            "activation_3 (Activation)    (None, 16, 16, 64)        0         \n",
            "_________________________________________________________________\n",
            "conv2d_4 (Conv2D)            (None, 16, 16, 64)        36928     \n",
            "_________________________________________________________________\n",
            "batch_normalization_4 (Batch (None, 16, 16, 64)        256       \n",
            "_________________________________________________________________\n",
            "activation_4 (Activation)    (None, 16, 16, 64)        0         \n",
            "_________________________________________________________________\n",
            "conv2d_5 (Conv2D)            (None, 16, 16, 64)        36928     \n",
            "_________________________________________________________________\n",
            "batch_normalization_5 (Batch (None, 16, 16, 64)        256       \n",
            "_________________________________________________________________\n",
            "activation_5 (Activation)    (None, 16, 16, 64)        0         \n",
            "_________________________________________________________________\n",
            "max_pooling2d_1 (MaxPooling2 (None, 8, 8, 64)          0         \n",
            "_________________________________________________________________\n",
            "conv2d_6 (Conv2D)            (None, 8, 8, 128)         73856     \n",
            "_________________________________________________________________\n",
            "batch_normalization_6 (Batch (None, 8, 8, 128)         512       \n",
            "_________________________________________________________________\n",
            "activation_6 (Activation)    (None, 8, 8, 128)         0         \n",
            "_________________________________________________________________\n",
            "conv2d_7 (Conv2D)            (None, 8, 8, 128)         147584    \n",
            "_________________________________________________________________\n",
            "batch_normalization_7 (Batch (None, 8, 8, 128)         512       \n",
            "_________________________________________________________________\n",
            "activation_7 (Activation)    (None, 8, 8, 128)         0         \n",
            "_________________________________________________________________\n",
            "conv2d_8 (Conv2D)            (None, 8, 8, 128)         147584    \n",
            "_________________________________________________________________\n",
            "batch_normalization_8 (Batch (None, 8, 8, 128)         512       \n",
            "_________________________________________________________________\n",
            "activation_8 (Activation)    (None, 8, 8, 128)         0         \n",
            "_________________________________________________________________\n",
            "max_pooling2d_2 (MaxPooling2 (None, 4, 4, 128)         0         \n",
            "_________________________________________________________________\n",
            "conv2d_9 (Conv2D)            (None, 4, 4, 256)         295168    \n",
            "_________________________________________________________________\n",
            "batch_normalization_9 (Batch (None, 4, 4, 256)         1024      \n",
            "_________________________________________________________________\n",
            "activation_9 (Activation)    (None, 4, 4, 256)         0         \n",
            "_________________________________________________________________\n",
            "conv2d_10 (Conv2D)           (None, 4, 4, 256)         590080    \n",
            "_________________________________________________________________\n",
            "batch_normalization_10 (Batc (None, 4, 4, 256)         1024      \n",
            "_________________________________________________________________\n",
            "activation_10 (Activation)   (None, 4, 4, 256)         0         \n",
            "_________________________________________________________________\n",
            "conv2d_11 (Conv2D)           (None, 4, 4, 256)         590080    \n",
            "_________________________________________________________________\n",
            "batch_normalization_11 (Batc (None, 4, 4, 256)         1024      \n",
            "_________________________________________________________________\n",
            "activation_11 (Activation)   (None, 4, 4, 256)         0         \n",
            "_________________________________________________________________\n",
            "max_pooling2d_3 (MaxPooling2 (None, 2, 2, 256)         0         \n",
            "_________________________________________________________________\n",
            "conv2d_12 (Conv2D)           (None, 2, 2, 512)         1180160   \n",
            "_________________________________________________________________\n",
            "batch_normalization_12 (Batc (None, 2, 2, 512)         2048      \n",
            "_________________________________________________________________\n",
            "activation_12 (Activation)   (None, 2, 2, 512)         0         \n",
            "_________________________________________________________________\n",
            "conv2d_13 (Conv2D)           (None, 2, 2, 512)         2359808   \n",
            "_________________________________________________________________\n",
            "batch_normalization_13 (Batc (None, 2, 2, 512)         2048      \n",
            "_________________________________________________________________\n",
            "activation_13 (Activation)   (None, 2, 2, 512)         0         \n",
            "_________________________________________________________________\n",
            "conv2d_14 (Conv2D)           (None, 2, 2, 512)         2359808   \n",
            "_________________________________________________________________\n",
            "batch_normalization_14 (Batc (None, 2, 2, 512)         2048      \n",
            "_________________________________________________________________\n",
            "activation_14 (Activation)   (None, 2, 2, 512)         0         \n",
            "_________________________________________________________________\n",
            "max_pooling2d_4 (MaxPooling2 (None, 1, 1, 512)         0         \n",
            "_________________________________________________________________\n",
            "flatten (Flatten)            (None, 512)               0         \n",
            "_________________________________________________________________\n",
            "dense (Dense)                (None, 512)               262656    \n",
            "_________________________________________________________________\n",
            "activation_15 (Activation)   (None, 512)               0         \n",
            "_________________________________________________________________\n",
            "dense_1 (Dense)              (None, 10)                5130      \n",
            "_________________________________________________________________\n",
            "activation_16 (Activation)   (None, 10)                0         \n",
            "=================================================================\n",
            "Total params: 8,135,562\n",
            "Trainable params: 8,129,610\n",
            "Non-trainable params: 5,952\n",
            "_________________________________________________________________\n"
          ],
          "name": "stdout"
        }
      ]
    },
    {
      "cell_type": "code",
      "metadata": {
        "id": "LG4OXuJ5BD_f"
      },
      "source": [
        "## OPTIM AND COMPILE\r\n",
        "opt = SGD(lr=0.1, decay=1e-6)\r\n",
        "\r\n",
        "model.compile(loss='categorical_crossentropy',\r\n",
        "              optimizer=opt,\r\n",
        "              metrics=['accuracy'])"
      ],
      "execution_count": 7,
      "outputs": []
    },
    {
      "cell_type": "code",
      "metadata": {
        "id": "70hiA2fsBHNR"
      },
      "source": [
        "# DEFINE A LEARNING RATE SCHEDULER\r\n",
        "def scheduler(epoch):\r\n",
        "    if epoch < 25:\r\n",
        "        return .1\r\n",
        "    elif epoch < 50:\r\n",
        "        return 0.05  \r\n",
        "    elif epoch < 60:\r\n",
        "        return 0.01  \r\n",
        "    elif epoch < 75:\r\n",
        "        return 0.001\r\n",
        "    else:\r\n",
        "        return 0.0001\r\n",
        "\r\n",
        "set_lr = LRS(scheduler)\r\n",
        "\r\n",
        "reduce_lr = ReduceLROnPlateau(monitor='val_loss', factor=0.1, patience=10, min_lr=0.00001)"
      ],
      "execution_count": 8,
      "outputs": []
    },
    {
      "cell_type": "code",
      "metadata": {
        "colab": {
          "base_uri": "https://localhost:8080/"
        },
        "id": "WI3BLnJNRRMp",
        "outputId": "fcd70324-7026-4d55-f32a-1d222407aa07"
      },
      "source": [
        "from google.colab import drive\n",
        "drive.mount('/content/drive')"
      ],
      "execution_count": 9,
      "outputs": [
        {
          "output_type": "stream",
          "text": [
            "Mounted at /content/drive\n"
          ],
          "name": "stdout"
        }
      ]
    },
    {
      "cell_type": "code",
      "metadata": {
        "id": "d75k1WPsgHcr"
      },
      "source": [
        "#Checkpoint Callback\r\n",
        "checkpoint_cb = ModelCheckpoint(filepath=\"/content/drive/MyDrive/Colab Notebooks/cifar/tmp/tmp_weights\", save_best_only=True, save_weights_only=True, monitor='val_accuracy')"
      ],
      "execution_count": 10,
      "outputs": []
    },
    {
      "cell_type": "code",
      "metadata": {
        "colab": {
          "base_uri": "https://localhost:8080/"
        },
        "id": "9wZTBdjBBKZ2",
        "outputId": "5a9b2d21-2ed7-4534-cbc6-34cab118fae0"
      },
      "source": [
        "## TRAINING with DA and LRA\r\n",
        "history=model.fit_generator(datagen.flow(x_train, y_train,batch_size=batch_size),\r\n",
        "                            steps_per_epoch=len(x_train) / batch_size, \r\n",
        "                            epochs=epochs,\r\n",
        "                            validation_data=(x_test, y_test),\r\n",
        "                            callbacks=[reduce_lr,checkpoint_cb],\r\n",
        "                            verbose=1)"
      ],
      "execution_count": 11,
      "outputs": [
        {
          "output_type": "stream",
          "text": [
            "/usr/local/lib/python3.6/dist-packages/tensorflow/python/keras/engine/training.py:1844: UserWarning: `Model.fit_generator` is deprecated and will be removed in a future version. Please use `Model.fit`, which supports generators.\n",
            "  warnings.warn('`Model.fit_generator` is deprecated and '\n"
          ],
          "name": "stderr"
        },
        {
          "output_type": "stream",
          "text": [
            "Epoch 1/50\n",
            "1562/1562 [==============================] - 48s 25ms/step - loss: 2.2356 - accuracy: 0.1824 - val_loss: 2.0323 - val_accuracy: 0.2910\n",
            "Epoch 2/50\n",
            "1562/1562 [==============================] - 39s 25ms/step - loss: 1.6708 - accuracy: 0.3608 - val_loss: 1.3670 - val_accuracy: 0.4936\n",
            "Epoch 3/50\n",
            "1562/1562 [==============================] - 39s 25ms/step - loss: 1.3852 - accuracy: 0.5003 - val_loss: 1.2444 - val_accuracy: 0.5528\n",
            "Epoch 4/50\n",
            "1562/1562 [==============================] - 39s 25ms/step - loss: 1.1650 - accuracy: 0.5952 - val_loss: 1.5727 - val_accuracy: 0.4833\n",
            "Epoch 5/50\n",
            "1562/1562 [==============================] - 38s 24ms/step - loss: 1.0002 - accuracy: 0.6520 - val_loss: 1.0213 - val_accuracy: 0.6642\n",
            "Epoch 6/50\n",
            "1562/1562 [==============================] - 39s 25ms/step - loss: 0.9015 - accuracy: 0.6852 - val_loss: 1.2373 - val_accuracy: 0.5624\n",
            "Epoch 7/50\n",
            "1562/1562 [==============================] - 40s 25ms/step - loss: 0.8245 - accuracy: 0.7173 - val_loss: 0.7634 - val_accuracy: 0.7352\n",
            "Epoch 8/50\n",
            "1562/1562 [==============================] - 38s 24ms/step - loss: 0.7568 - accuracy: 0.7403 - val_loss: 1.2773 - val_accuracy: 0.6331\n",
            "Epoch 9/50\n",
            "1562/1562 [==============================] - 38s 24ms/step - loss: 0.6989 - accuracy: 0.7620 - val_loss: 0.8239 - val_accuracy: 0.7307\n",
            "Epoch 10/50\n",
            "1562/1562 [==============================] - 37s 24ms/step - loss: 0.6609 - accuracy: 0.7741 - val_loss: 0.6314 - val_accuracy: 0.7870\n",
            "Epoch 11/50\n",
            "1562/1562 [==============================] - 38s 24ms/step - loss: 0.6285 - accuracy: 0.7851 - val_loss: 0.6254 - val_accuracy: 0.7981\n",
            "Epoch 12/50\n",
            "1562/1562 [==============================] - 38s 24ms/step - loss: 0.5971 - accuracy: 0.8004 - val_loss: 0.6327 - val_accuracy: 0.7939\n",
            "Epoch 13/50\n",
            "1562/1562 [==============================] - 37s 24ms/step - loss: 0.5705 - accuracy: 0.8065 - val_loss: 0.5800 - val_accuracy: 0.8061\n",
            "Epoch 14/50\n",
            "1562/1562 [==============================] - 37s 24ms/step - loss: 0.5516 - accuracy: 0.8152 - val_loss: 0.7610 - val_accuracy: 0.7677\n",
            "Epoch 15/50\n",
            "1562/1562 [==============================] - 37s 24ms/step - loss: 0.5132 - accuracy: 0.8247 - val_loss: 0.5356 - val_accuracy: 0.8224\n",
            "Epoch 16/50\n",
            "1562/1562 [==============================] - 36s 23ms/step - loss: 0.5058 - accuracy: 0.8279 - val_loss: 0.6657 - val_accuracy: 0.7950\n",
            "Epoch 17/50\n",
            "1562/1562 [==============================] - 37s 24ms/step - loss: 0.4900 - accuracy: 0.8368 - val_loss: 0.5377 - val_accuracy: 0.8213\n",
            "Epoch 18/50\n",
            "1562/1562 [==============================] - 37s 23ms/step - loss: 0.4753 - accuracy: 0.8370 - val_loss: 0.5460 - val_accuracy: 0.8244\n",
            "Epoch 19/50\n",
            "1562/1562 [==============================] - 37s 24ms/step - loss: 0.4516 - accuracy: 0.8446 - val_loss: 0.4738 - val_accuracy: 0.8365\n",
            "Epoch 20/50\n",
            "1562/1562 [==============================] - 37s 23ms/step - loss: 0.4375 - accuracy: 0.8498 - val_loss: 0.4829 - val_accuracy: 0.8399\n",
            "Epoch 21/50\n",
            "1562/1562 [==============================] - 37s 24ms/step - loss: 0.4280 - accuracy: 0.8541 - val_loss: 0.4803 - val_accuracy: 0.8411\n",
            "Epoch 22/50\n",
            "1562/1562 [==============================] - 37s 24ms/step - loss: 0.4163 - accuracy: 0.8556 - val_loss: 0.4821 - val_accuracy: 0.8413\n",
            "Epoch 23/50\n",
            "1562/1562 [==============================] - 37s 24ms/step - loss: 0.4087 - accuracy: 0.8595 - val_loss: 0.7115 - val_accuracy: 0.7986\n",
            "Epoch 24/50\n",
            "1562/1562 [==============================] - 37s 23ms/step - loss: 0.3961 - accuracy: 0.8651 - val_loss: 0.5588 - val_accuracy: 0.8228\n",
            "Epoch 25/50\n",
            "1562/1562 [==============================] - 36s 23ms/step - loss: 0.3877 - accuracy: 0.8664 - val_loss: 0.4792 - val_accuracy: 0.8457\n",
            "Epoch 26/50\n",
            "1562/1562 [==============================] - 37s 24ms/step - loss: 0.3776 - accuracy: 0.8706 - val_loss: 0.4476 - val_accuracy: 0.8568\n",
            "Epoch 27/50\n",
            "1562/1562 [==============================] - 36s 23ms/step - loss: 0.3640 - accuracy: 0.8751 - val_loss: 0.4525 - val_accuracy: 0.8537\n",
            "Epoch 28/50\n",
            "1562/1562 [==============================] - 37s 23ms/step - loss: 0.3566 - accuracy: 0.8760 - val_loss: 0.4807 - val_accuracy: 0.8395\n",
            "Epoch 29/50\n",
            "1562/1562 [==============================] - 36s 23ms/step - loss: 0.3521 - accuracy: 0.8779 - val_loss: 0.4913 - val_accuracy: 0.8404\n",
            "Epoch 30/50\n",
            "1562/1562 [==============================] - 36s 23ms/step - loss: 0.3434 - accuracy: 0.8807 - val_loss: 0.4734 - val_accuracy: 0.8440\n",
            "Epoch 31/50\n",
            "1562/1562 [==============================] - 36s 23ms/step - loss: 0.3278 - accuracy: 0.8882 - val_loss: 0.3861 - val_accuracy: 0.8702\n",
            "Epoch 32/50\n",
            "1562/1562 [==============================] - 36s 23ms/step - loss: 0.3270 - accuracy: 0.8873 - val_loss: 0.4495 - val_accuracy: 0.8617\n",
            "Epoch 33/50\n",
            "1562/1562 [==============================] - 36s 23ms/step - loss: 0.3203 - accuracy: 0.8875 - val_loss: 0.3602 - val_accuracy: 0.8791\n",
            "Epoch 34/50\n",
            "1562/1562 [==============================] - 37s 24ms/step - loss: 0.3119 - accuracy: 0.8936 - val_loss: 0.3462 - val_accuracy: 0.8820\n",
            "Epoch 35/50\n",
            "1562/1562 [==============================] - 36s 23ms/step - loss: 0.3116 - accuracy: 0.8918 - val_loss: 0.3699 - val_accuracy: 0.8789\n",
            "Epoch 36/50\n",
            "1562/1562 [==============================] - 36s 23ms/step - loss: 0.2966 - accuracy: 0.8984 - val_loss: 0.4290 - val_accuracy: 0.8633\n",
            "Epoch 37/50\n",
            "1562/1562 [==============================] - 36s 23ms/step - loss: 0.2973 - accuracy: 0.8966 - val_loss: 0.4195 - val_accuracy: 0.8646\n",
            "Epoch 38/50\n",
            "1562/1562 [==============================] - 36s 23ms/step - loss: 0.2882 - accuracy: 0.8988 - val_loss: 0.8867 - val_accuracy: 0.7893\n",
            "Epoch 39/50\n",
            "1562/1562 [==============================] - 36s 23ms/step - loss: 0.2840 - accuracy: 0.9015 - val_loss: 0.4304 - val_accuracy: 0.8667\n",
            "Epoch 40/50\n",
            "1562/1562 [==============================] - 36s 23ms/step - loss: 0.2804 - accuracy: 0.9044 - val_loss: 0.3882 - val_accuracy: 0.8795\n",
            "Epoch 41/50\n",
            "1562/1562 [==============================] - 36s 23ms/step - loss: 0.2745 - accuracy: 0.9056 - val_loss: 0.4082 - val_accuracy: 0.8724\n",
            "Epoch 42/50\n",
            "1562/1562 [==============================] - 36s 23ms/step - loss: 0.2670 - accuracy: 0.9056 - val_loss: 0.3393 - val_accuracy: 0.8922\n",
            "Epoch 43/50\n",
            "1562/1562 [==============================] - 36s 23ms/step - loss: 0.2675 - accuracy: 0.9073 - val_loss: 0.4275 - val_accuracy: 0.8703\n",
            "Epoch 44/50\n",
            "1562/1562 [==============================] - 36s 23ms/step - loss: 0.2635 - accuracy: 0.9087 - val_loss: 0.3750 - val_accuracy: 0.8757\n",
            "Epoch 45/50\n",
            "1562/1562 [==============================] - 36s 23ms/step - loss: 0.2597 - accuracy: 0.9107 - val_loss: 0.3839 - val_accuracy: 0.8848\n",
            "Epoch 46/50\n",
            "1562/1562 [==============================] - 36s 23ms/step - loss: 0.2502 - accuracy: 0.9122 - val_loss: 0.3302 - val_accuracy: 0.8920\n",
            "Epoch 47/50\n",
            "1562/1562 [==============================] - 36s 23ms/step - loss: 0.2494 - accuracy: 0.9151 - val_loss: 0.3596 - val_accuracy: 0.8855\n",
            "Epoch 48/50\n",
            "1562/1562 [==============================] - 36s 23ms/step - loss: 0.2452 - accuracy: 0.9158 - val_loss: 0.3785 - val_accuracy: 0.8840\n",
            "Epoch 49/50\n",
            "1562/1562 [==============================] - 36s 23ms/step - loss: 0.2464 - accuracy: 0.9132 - val_loss: 0.3635 - val_accuracy: 0.8869\n",
            "Epoch 50/50\n",
            "1562/1562 [==============================] - 36s 23ms/step - loss: 0.2389 - accuracy: 0.9168 - val_loss: 0.3702 - val_accuracy: 0.8817\n"
          ],
          "name": "stdout"
        }
      ]
    },
    {
      "cell_type": "code",
      "metadata": {
        "id": "POA0nBlnIr6w"
      },
      "source": [
        "import matplotlib.pyplot as plt"
      ],
      "execution_count": 12,
      "outputs": []
    },
    {
      "cell_type": "code",
      "metadata": {
        "id": "5SdGbXPRIuDP",
        "colab": {
          "base_uri": "https://localhost:8080/",
          "height": 295
        },
        "outputId": "8ca35167-88a6-4247-e905-800e34e3af64"
      },
      "source": [
        "plt.plot(history.history['accuracy'])\r\n",
        "plt.plot(history.history['val_accuracy'])\r\n",
        "plt.title('model accuracy')\r\n",
        "plt.ylabel('accuracy')\r\n",
        "plt.xlabel('epoch')\r\n",
        "plt.legend(['train', 'test'], loc='upper left')\r\n",
        "plt.show()"
      ],
      "execution_count": 13,
      "outputs": [
        {
          "output_type": "display_data",
          "data": {
            "image/png": "[encoded data removed]",
            "text/plain": [
              "<Figure size 432x288 with 1 Axes>"
            ]
          },
          "metadata": {
            "tags": [],
            "needs_background": "light"
          }
        }
      ]
    },
    {
      "cell_type": "code",
      "metadata": {
        "colab": {
          "base_uri": "https://localhost:8080/"
        },
        "id": "0xG9vPRIlq6W",
        "outputId": "b30e49cd-9e7b-48a2-cbc6-156d10b62594"
      },
      "source": [
        "## TEST \r\n",
        "scores = model.evaluate(x_test, y_test, verbose=1)\r\n",
        "print('Test loss:', scores[0])\r\n",
        "print('Test accuracy:', scores[1])"
      ],
      "execution_count": 14,
      "outputs": [
        {
          "output_type": "stream",
          "text": [
            "313/313 [==============================] - 2s 6ms/step - loss: 0.3702 - accuracy: 0.8817\n",
            "Test loss: 0.37021103501319885\n",
            "Test accuracy: 0.8816999793052673\n"
          ],
          "name": "stdout"
        }
      ]
    },
    {
      "cell_type": "code",
      "metadata": {
        "id": "4dQbN3V8kVMu"
      },
      "source": [
        "batch_size = 16\r\n",
        "num_classes = 10\r\n",
        "epochs = 75"
      ],
      "execution_count": 16,
      "outputs": []
    },
    {
      "cell_type": "code",
      "metadata": {
        "colab": {
          "base_uri": "https://localhost:8080/"
        },
        "id": "UeUeKUXekZb0",
        "outputId": "0c6c72ad-f7d3-45b2-9ea2-25333781d32d"
      },
      "source": [
        "## TRAINING with DA and LRA\r\n",
        "history=model.fit_generator(datagen.flow(x_train, y_train,batch_size=batch_size),\r\n",
        "                            steps_per_epoch=len(x_train) / batch_size, \r\n",
        "                            epochs=epochs,\r\n",
        "                            validation_data=(x_test, y_test),\r\n",
        "                            callbacks=[reduce_lr,checkpoint_cb],\r\n",
        "                            verbose=1)"
      ],
      "execution_count": 17,
      "outputs": [
        {
          "output_type": "stream",
          "text": [
            "Epoch 1/75\n",
            "   4/3125 [..............................] - ETA: 1:08 - loss: 0.3013 - accuracy: 0.8750"
          ],
          "name": "stdout"
        },
        {
          "output_type": "stream",
          "text": [
            "/usr/local/lib/python3.6/dist-packages/tensorflow/python/keras/engine/training.py:1844: UserWarning: `Model.fit_generator` is deprecated and will be removed in a future version. Please use `Model.fit`, which supports generators.\n",
            "  warnings.warn('`Model.fit_generator` is deprecated and '\n"
          ],
          "name": "stderr"
        },
        {
          "output_type": "stream",
          "text": [
            "3125/3125 [==============================] - 47s 15ms/step - loss: 0.3661 - accuracy: 0.8743 - val_loss: 0.4948 - val_accuracy: 0.8436\n",
            "Epoch 2/75\n",
            "3125/3125 [==============================] - 48s 15ms/step - loss: 0.3622 - accuracy: 0.8776 - val_loss: 0.4687 - val_accuracy: 0.8538\n",
            "Epoch 3/75\n",
            "3125/3125 [==============================] - 48s 15ms/step - loss: 0.3443 - accuracy: 0.8836 - val_loss: 0.4529 - val_accuracy: 0.8621\n",
            "Epoch 4/75\n",
            "3125/3125 [==============================] - 47s 15ms/step - loss: 0.3417 - accuracy: 0.8857 - val_loss: 0.4678 - val_accuracy: 0.8615\n",
            "Epoch 5/75\n",
            "3125/3125 [==============================] - 47s 15ms/step - loss: 0.3343 - accuracy: 0.8859 - val_loss: 0.4689 - val_accuracy: 0.8488\n",
            "Epoch 6/75\n",
            "3125/3125 [==============================] - 47s 15ms/step - loss: 0.3218 - accuracy: 0.8921 - val_loss: 0.3767 - val_accuracy: 0.8800\n",
            "Epoch 7/75\n",
            "3125/3125 [==============================] - 47s 15ms/step - loss: 0.3151 - accuracy: 0.8927 - val_loss: 0.3573 - val_accuracy: 0.8836\n",
            "Epoch 8/75\n",
            "3125/3125 [==============================] - 47s 15ms/step - loss: 0.3033 - accuracy: 0.8980 - val_loss: 0.4445 - val_accuracy: 0.8595\n",
            "Epoch 9/75\n",
            "3125/3125 [==============================] - 47s 15ms/step - loss: 0.2976 - accuracy: 0.8989 - val_loss: 0.3610 - val_accuracy: 0.8846\n",
            "Epoch 10/75\n",
            "3125/3125 [==============================] - 47s 15ms/step - loss: 0.2970 - accuracy: 0.8973 - val_loss: 0.3859 - val_accuracy: 0.8738\n",
            "Epoch 11/75\n",
            "3125/3125 [==============================] - 47s 15ms/step - loss: 0.2861 - accuracy: 0.9029 - val_loss: 0.3345 - val_accuracy: 0.8888\n",
            "Epoch 12/75\n",
            "3125/3125 [==============================] - 47s 15ms/step - loss: 0.2850 - accuracy: 0.9026 - val_loss: 0.4367 - val_accuracy: 0.8682\n",
            "Epoch 13/75\n",
            "3125/3125 [==============================] - 47s 15ms/step - loss: 0.2767 - accuracy: 0.9062 - val_loss: 0.3460 - val_accuracy: 0.8875\n",
            "Epoch 14/75\n",
            "3125/3125 [==============================] - 47s 15ms/step - loss: 0.2740 - accuracy: 0.9068 - val_loss: 0.3829 - val_accuracy: 0.8786\n",
            "Epoch 15/75\n",
            "3125/3125 [==============================] - 48s 15ms/step - loss: 0.2666 - accuracy: 0.9099 - val_loss: 0.3490 - val_accuracy: 0.8902\n",
            "Epoch 16/75\n",
            "3125/3125 [==============================] - 47s 15ms/step - loss: 0.2605 - accuracy: 0.9108 - val_loss: 0.4243 - val_accuracy: 0.8703\n",
            "Epoch 17/75\n",
            "3125/3125 [==============================] - 48s 15ms/step - loss: 0.2555 - accuracy: 0.9131 - val_loss: 0.3720 - val_accuracy: 0.8812\n",
            "Epoch 18/75\n",
            "3125/3125 [==============================] - 47s 15ms/step - loss: 0.2525 - accuracy: 0.9132 - val_loss: 0.4014 - val_accuracy: 0.8799\n",
            "Epoch 19/75\n",
            "3125/3125 [==============================] - 47s 15ms/step - loss: 0.2434 - accuracy: 0.9170 - val_loss: 0.4619 - val_accuracy: 0.8576\n",
            "Epoch 20/75\n",
            "3125/3125 [==============================] - 47s 15ms/step - loss: 0.2405 - accuracy: 0.9168 - val_loss: 0.3284 - val_accuracy: 0.8944\n",
            "Epoch 21/75\n",
            "3125/3125 [==============================] - 47s 15ms/step - loss: 0.2394 - accuracy: 0.9176 - val_loss: 0.3500 - val_accuracy: 0.8914\n",
            "Epoch 22/75\n",
            "3125/3125 [==============================] - 47s 15ms/step - loss: 0.2410 - accuracy: 0.9166 - val_loss: 0.5261 - val_accuracy: 0.8513\n",
            "Epoch 23/75\n",
            "3125/3125 [==============================] - 47s 15ms/step - loss: 0.2305 - accuracy: 0.9215 - val_loss: 0.3266 - val_accuracy: 0.8985\n",
            "Epoch 24/75\n",
            "3125/3125 [==============================] - 47s 15ms/step - loss: 0.2246 - accuracy: 0.9236 - val_loss: 0.3778 - val_accuracy: 0.8845\n",
            "Epoch 25/75\n",
            "3125/3125 [==============================] - 47s 15ms/step - loss: 0.2222 - accuracy: 0.9230 - val_loss: 0.3410 - val_accuracy: 0.8946\n",
            "Epoch 26/75\n",
            "3125/3125 [==============================] - 47s 15ms/step - loss: 0.2204 - accuracy: 0.9227 - val_loss: 0.3061 - val_accuracy: 0.9011\n",
            "Epoch 27/75\n",
            "3125/3125 [==============================] - 47s 15ms/step - loss: 0.2185 - accuracy: 0.9235 - val_loss: 0.3247 - val_accuracy: 0.8962\n",
            "Epoch 28/75\n",
            "3125/3125 [==============================] - 47s 15ms/step - loss: 0.2133 - accuracy: 0.9269 - val_loss: 0.3510 - val_accuracy: 0.8910\n",
            "Epoch 29/75\n",
            "3125/3125 [==============================] - 47s 15ms/step - loss: 0.2120 - accuracy: 0.9279 - val_loss: 0.3496 - val_accuracy: 0.8919\n",
            "Epoch 30/75\n",
            "3125/3125 [==============================] - 47s 15ms/step - loss: 0.2111 - accuracy: 0.9275 - val_loss: 0.3318 - val_accuracy: 0.8959\n",
            "Epoch 31/75\n",
            "3125/3125 [==============================] - 47s 15ms/step - loss: 0.2059 - accuracy: 0.9291 - val_loss: 0.3205 - val_accuracy: 0.8995\n",
            "Epoch 32/75\n",
            "3125/3125 [==============================] - 47s 15ms/step - loss: 0.2036 - accuracy: 0.9297 - val_loss: 0.3432 - val_accuracy: 0.8982\n",
            "Epoch 33/75\n",
            "3125/3125 [==============================] - 48s 15ms/step - loss: 0.2013 - accuracy: 0.9306 - val_loss: 0.3461 - val_accuracy: 0.8955\n",
            "Epoch 34/75\n",
            "3125/3125 [==============================] - 48s 15ms/step - loss: 0.1952 - accuracy: 0.9326 - val_loss: 0.3424 - val_accuracy: 0.8951\n",
            "Epoch 35/75\n",
            "3125/3125 [==============================] - 48s 15ms/step - loss: 0.1982 - accuracy: 0.9310 - val_loss: 0.3228 - val_accuracy: 0.9000\n",
            "Epoch 36/75\n",
            "3125/3125 [==============================] - 48s 15ms/step - loss: 0.1893 - accuracy: 0.9345 - val_loss: 0.3283 - val_accuracy: 0.9031\n",
            "Epoch 37/75\n",
            "3125/3125 [==============================] - 48s 15ms/step - loss: 0.1491 - accuracy: 0.9482 - val_loss: 0.2901 - val_accuracy: 0.9131\n",
            "Epoch 38/75\n",
            "3125/3125 [==============================] - 48s 15ms/step - loss: 0.1378 - accuracy: 0.9515 - val_loss: 0.2845 - val_accuracy: 0.9162\n",
            "Epoch 39/75\n",
            "3125/3125 [==============================] - 48s 15ms/step - loss: 0.1293 - accuracy: 0.9543 - val_loss: 0.2842 - val_accuracy: 0.9152\n",
            "Epoch 40/75\n",
            "3125/3125 [==============================] - 48s 15ms/step - loss: 0.1253 - accuracy: 0.9571 - val_loss: 0.2840 - val_accuracy: 0.9160\n",
            "Epoch 41/75\n",
            "3125/3125 [==============================] - 47s 15ms/step - loss: 0.1243 - accuracy: 0.9565 - val_loss: 0.2774 - val_accuracy: 0.9184\n",
            "Epoch 42/75\n",
            "3125/3125 [==============================] - 48s 15ms/step - loss: 0.1219 - accuracy: 0.9577 - val_loss: 0.2733 - val_accuracy: 0.9187\n",
            "Epoch 43/75\n",
            "3125/3125 [==============================] - 48s 15ms/step - loss: 0.1200 - accuracy: 0.9582 - val_loss: 0.2848 - val_accuracy: 0.9172\n",
            "Epoch 44/75\n",
            "3125/3125 [==============================] - 48s 15ms/step - loss: 0.1179 - accuracy: 0.9592 - val_loss: 0.2782 - val_accuracy: 0.9186\n",
            "Epoch 45/75\n",
            "3125/3125 [==============================] - 48s 15ms/step - loss: 0.1136 - accuracy: 0.9608 - val_loss: 0.2775 - val_accuracy: 0.9183\n",
            "Epoch 46/75\n",
            "3125/3125 [==============================] - 48s 15ms/step - loss: 0.1156 - accuracy: 0.9604 - val_loss: 0.2747 - val_accuracy: 0.9203\n",
            "Epoch 47/75\n",
            "3125/3125 [==============================] - 48s 15ms/step - loss: 0.1135 - accuracy: 0.9601 - val_loss: 0.2783 - val_accuracy: 0.9192\n",
            "Epoch 48/75\n",
            "3125/3125 [==============================] - 48s 15ms/step - loss: 0.1135 - accuracy: 0.9604 - val_loss: 0.2771 - val_accuracy: 0.9223\n",
            "Epoch 49/75\n",
            "3125/3125 [==============================] - 48s 15ms/step - loss: 0.1117 - accuracy: 0.9610 - val_loss: 0.2936 - val_accuracy: 0.9175\n",
            "Epoch 50/75\n",
            "3125/3125 [==============================] - 48s 15ms/step - loss: 0.1093 - accuracy: 0.9621 - val_loss: 0.2816 - val_accuracy: 0.9198\n",
            "Epoch 51/75\n",
            "3125/3125 [==============================] - 48s 15ms/step - loss: 0.1071 - accuracy: 0.9623 - val_loss: 0.2727 - val_accuracy: 0.9213\n",
            "Epoch 52/75\n",
            "3125/3125 [==============================] - 48s 15ms/step - loss: 0.1082 - accuracy: 0.9623 - val_loss: 0.2860 - val_accuracy: 0.9188\n",
            "Epoch 53/75\n",
            "3125/3125 [==============================] - 48s 15ms/step - loss: 0.1069 - accuracy: 0.9617 - val_loss: 0.2826 - val_accuracy: 0.9198\n",
            "Epoch 54/75\n",
            "3125/3125 [==============================] - 48s 15ms/step - loss: 0.1057 - accuracy: 0.9631 - val_loss: 0.2828 - val_accuracy: 0.9208\n",
            "Epoch 55/75\n",
            "3125/3125 [==============================] - 48s 15ms/step - loss: 0.1049 - accuracy: 0.9632 - val_loss: 0.2756 - val_accuracy: 0.9221\n",
            "Epoch 56/75\n",
            "3125/3125 [==============================] - 48s 15ms/step - loss: 0.1076 - accuracy: 0.9624 - val_loss: 0.2820 - val_accuracy: 0.9219\n",
            "Epoch 57/75\n",
            "3125/3125 [==============================] - 48s 15ms/step - loss: 0.1013 - accuracy: 0.9636 - val_loss: 0.2848 - val_accuracy: 0.9208\n",
            "Epoch 58/75\n",
            "3125/3125 [==============================] - 48s 15ms/step - loss: 0.1011 - accuracy: 0.9650 - val_loss: 0.2895 - val_accuracy: 0.9195\n",
            "Epoch 59/75\n",
            "3125/3125 [==============================] - 48s 15ms/step - loss: 0.1007 - accuracy: 0.9649 - val_loss: 0.2751 - val_accuracy: 0.9230\n",
            "Epoch 60/75\n",
            "3125/3125 [==============================] - 48s 15ms/step - loss: 0.1022 - accuracy: 0.9643 - val_loss: 0.2763 - val_accuracy: 0.9206\n",
            "Epoch 61/75\n",
            "3125/3125 [==============================] - 48s 15ms/step - loss: 0.1005 - accuracy: 0.9645 - val_loss: 0.2827 - val_accuracy: 0.9220\n",
            "Epoch 62/75\n",
            "3125/3125 [==============================] - 48s 15ms/step - loss: 0.1009 - accuracy: 0.9646 - val_loss: 0.2817 - val_accuracy: 0.9226\n",
            "Epoch 63/75\n",
            "3125/3125 [==============================] - 48s 15ms/step - loss: 0.0962 - accuracy: 0.9656 - val_loss: 0.2816 - val_accuracy: 0.9216\n",
            "Epoch 64/75\n",
            "3125/3125 [==============================] - 47s 15ms/step - loss: 0.0998 - accuracy: 0.9652 - val_loss: 0.2792 - val_accuracy: 0.9228\n",
            "Epoch 65/75\n",
            "3125/3125 [==============================] - 48s 15ms/step - loss: 0.0968 - accuracy: 0.9663 - val_loss: 0.2791 - val_accuracy: 0.9219\n",
            "Epoch 66/75\n",
            "3125/3125 [==============================] - 48s 15ms/step - loss: 0.0957 - accuracy: 0.9670 - val_loss: 0.2792 - val_accuracy: 0.9214\n",
            "Epoch 67/75\n",
            "3125/3125 [==============================] - 48s 15ms/step - loss: 0.0943 - accuracy: 0.9667 - val_loss: 0.2824 - val_accuracy: 0.9225\n",
            "Epoch 68/75\n",
            "3125/3125 [==============================] - 48s 15ms/step - loss: 0.0975 - accuracy: 0.9648 - val_loss: 0.2807 - val_accuracy: 0.9230\n",
            "Epoch 69/75\n",
            "3125/3125 [==============================] - 48s 15ms/step - loss: 0.0977 - accuracy: 0.9660 - val_loss: 0.2799 - val_accuracy: 0.9225\n",
            "Epoch 70/75\n",
            "3125/3125 [==============================] - 48s 15ms/step - loss: 0.0965 - accuracy: 0.9669 - val_loss: 0.2795 - val_accuracy: 0.9227\n",
            "Epoch 71/75\n",
            "3125/3125 [==============================] - 48s 15ms/step - loss: 0.0964 - accuracy: 0.9657 - val_loss: 0.2790 - val_accuracy: 0.9226\n",
            "Epoch 72/75\n",
            "3125/3125 [==============================] - 48s 15ms/step - loss: 0.0951 - accuracy: 0.9667 - val_loss: 0.2808 - val_accuracy: 0.9225\n",
            "Epoch 73/75\n",
            "3125/3125 [==============================] - 48s 15ms/step - loss: 0.0953 - accuracy: 0.9664 - val_loss: 0.2798 - val_accuracy: 0.9223\n",
            "Epoch 74/75\n",
            "3125/3125 [==============================] - 47s 15ms/step - loss: 0.0969 - accuracy: 0.9667 - val_loss: 0.2781 - val_accuracy: 0.9225\n",
            "Epoch 75/75\n",
            "3125/3125 [==============================] - 47s 15ms/step - loss: 0.0967 - accuracy: 0.9661 - val_loss: 0.2790 - val_accuracy: 0.9228\n"
          ],
          "name": "stdout"
        }
      ]
    },
    {
      "cell_type": "code",
      "metadata": {
        "colab": {
          "base_uri": "https://localhost:8080/",
          "height": 295
        },
        "id": "1rfkmILtyPU8",
        "outputId": "b52d5119-c449-4b97-8c5a-226a8cc42a97"
      },
      "source": [
        "plt.plot(history.history['accuracy'])\r\n",
        "plt.plot(history.history['val_accuracy'])\r\n",
        "plt.title('model accuracy')\r\n",
        "plt.ylabel('accuracy')\r\n",
        "plt.xlabel('epoch')\r\n",
        "plt.legend(['train', 'test'], loc='upper left')\r\n",
        "plt.show()"
      ],
      "execution_count": 18,
      "outputs": [
        {
          "output_type": "display_data",
          "data": {
            "image/png": "[encoded data removed]",
            "text/plain": [
              "<Figure size 432x288 with 1 Axes>"
            ]
          },
          "metadata": {
            "tags": [],
            "needs_background": "light"
          }
        }
      ]
    },
    {
      "cell_type": "code",
      "metadata": {
        "colab": {
          "base_uri": "https://localhost:8080/"
        },
        "id": "tme7IZLYyUoz",
        "outputId": "3f0e7ff1-0c0f-48f1-eebf-e2bd632c542b"
      },
      "source": [
        "## TEST \r\n",
        "scores = model.evaluate(x_test, y_test, verbose=1)\r\n",
        "print('Test loss:', scores[0])\r\n",
        "print('Test accuracy:', scores[1])"
      ],
      "execution_count": 19,
      "outputs": [
        {
          "output_type": "stream",
          "text": [
            "313/313 [==============================] - 2s 6ms/step - loss: 0.2790 - accuracy: 0.9228\n",
            "Test loss: 0.2789708971977234\n",
            "Test accuracy: 0.9228000044822693\n"
          ],
          "name": "stdout"
        }
      ]
    },
    {
      "cell_type": "code",
      "metadata": {
        "colab": {
          "base_uri": "https://localhost:8080/"
        },
        "id": "m1e_jce8Akih",
        "outputId": "0cd13444-7916-46eb-907e-19c0a6d59669"
      },
      "source": [
        "## TEST Mejor Modelo\r\n",
        "checkpoint_path = \"/content/drive/MyDrive/Colab Notebooks/cifar/tmp/tmp_weights\"\r\n",
        "model.load_weights(checkpoint_path)\r\n",
        "scores = model.evaluate(x_test, y_test, verbose=1)\r\n",
        "print('Test loss:', scores[0])\r\n",
        "print('Test accuracy:', scores[1])"
      ],
      "execution_count": 20,
      "outputs": [
        {
          "output_type": "stream",
          "text": [
            "313/313 [==============================] - 2s 6ms/step - loss: 0.2751 - accuracy: 0.9230\n",
            "Test loss: 0.27505260705947876\n",
            "Test accuracy: 0.9229999780654907\n"
          ],
          "name": "stdout"
        }
      ]
    },
    {
      "cell_type": "code",
      "metadata": {
        "id": "C2O6X8wKZvTR"
      },
      "source": [
        "model.save_weights(\"/content/drive/MyDrive/Colab Notebooks/cifar/cifar9230/cifar9230_weights\")"
      ],
      "execution_count": 21,
      "outputs": []
    }
  ]
}