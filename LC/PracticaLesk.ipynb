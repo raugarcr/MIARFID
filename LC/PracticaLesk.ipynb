{
 "cells": [
  {
   "cell_type": "code",
   "execution_count": 1,
   "metadata": {
    "scrolled": true
   },
   "outputs": [
    {
     "name": "stderr",
     "output_type": "stream",
     "text": [
      "[nltk_data] Downloading package wordnet to\n",
      "[nltk_data]     C:\\Users\\Raúl\\AppData\\Roaming\\nltk_data...\n",
      "[nltk_data]   Package wordnet is already up-to-date!\n"
     ]
    },
    {
     "name": "stdout",
     "output_type": "stream",
     "text": [
      "[Synset('tree.n.01'), Synset('tree.n.02'), Synset('tree.n.03'), Synset('corner.v.02'), Synset('tree.v.02'), Synset('tree.v.03'), Synset('tree.v.04')]\n",
      "SENTIDO: Synset('tree.n.01')\n",
      "DEFINICION: a tall perennial woody plant having a main trunk and branches forming a distinct elevated crown; includes both gymnosperms and angiosperms\n",
      "EJEMPLOS: []\n",
      "SENTIDO: Synset('tree.n.02')\n",
      "DEFINICION: a figure that branches from a single root\n",
      "EJEMPLOS: ['genealogical tree']\n",
      "SENTIDO: Synset('tree.n.03')\n",
      "DEFINICION: English actor and theatrical producer noted for his lavish productions of Shakespeare (1853-1917)\n",
      "EJEMPLOS: []\n",
      "SENTIDO: Synset('corner.v.02')\n",
      "DEFINICION: force a person or an animal into a position from which he cannot escape\n",
      "EJEMPLOS: []\n",
      "SENTIDO: Synset('tree.v.02')\n",
      "DEFINICION: plant with trees\n",
      "EJEMPLOS: ['this lot should be treed so that the house will be shaded in summer']\n",
      "SENTIDO: Synset('tree.v.03')\n",
      "DEFINICION: chase an animal up a tree\n",
      "EJEMPLOS: ['the hunters treed the bear with dogs and killed it', 'her dog likes to tree squirrels']\n",
      "SENTIDO: Synset('tree.v.04')\n",
      "DEFINICION: stretch (a shoe) on a shoetree\n",
      "EJEMPLOS: []\n"
     ]
    }
   ],
   "source": [
    "import nltk\n",
    "nltk.download('wordnet')\n",
    "from nltk.corpus import wordnet as wn\n",
    "from nltk.corpus import stopwords as sw\n",
    "#SENTIDOS DE UNA PALABRA EN WORDNET#\n",
    "word='trees'\n",
    "sentidos=wn.synsets(word)\n",
    "print (sentidos)\n",
    "for s in sentidos:\n",
    "    print (\"SENTIDO:\",s)\n",
    "    print (\"DEFINICION:\",s.definition())\n",
    "    print (\"EJEMPLOS:\",s.examples())"
   ]
  },
  {
   "cell_type": "code",
   "execution_count": 2,
   "metadata": {},
   "outputs": [
    {
     "name": "stderr",
     "output_type": "stream",
     "text": [
      "[nltk_data] Downloading package stopwords to\n",
      "[nltk_data]     C:\\Users\\Raúl\\AppData\\Roaming\\nltk_data...\n",
      "[nltk_data]   Package stopwords is already up-to-date!\n",
      "[nltk_data] Downloading package punkt to\n",
      "[nltk_data]     C:\\Users\\Raúl\\AppData\\Roaming\\nltk_data...\n",
      "[nltk_data]   Package punkt is already up-to-date!\n"
     ]
    }
   ],
   "source": [
    "nltk.download('stopwords')\n",
    "nltk.download('punkt')\n",
    "from nltk.corpus import stopwords as sw\n",
    "sw_english=sw.words('english')"
   ]
  },
  {
   "cell_type": "code",
   "execution_count": 3,
   "metadata": {},
   "outputs": [],
   "source": [
    "import numpy as np"
   ]
  },
  {
   "cell_type": "code",
   "execution_count": 4,
   "metadata": {},
   "outputs": [
    {
     "data": {
      "text/plain": [
       "['air pollution',\n",
       " 'a smell of chemicals in the air',\n",
       " 'open a window and let in some air',\n",
       " 'I need some fresh air']"
      ]
     },
     "execution_count": 4,
     "metadata": {},
     "output_type": "execute_result"
    }
   ],
   "source": [
    "wn.synsets(\"air\")[0].examples()"
   ]
  },
  {
   "cell_type": "code",
   "execution_count": 5,
   "metadata": {},
   "outputs": [],
   "source": [
    "def simplifiedLesk(word, frase):\n",
    "    senses = wn.synsets(word) \n",
    "    bestSense = senses[0]\n",
    "    maxOverlap = 0\n",
    "    tokensSentence = nltk.word_tokenize(frase.lower())\n",
    "    sentenceSinSW = np.setdiff1d(tokensSentence,sw_english).tolist()\n",
    "    sentenceSinSW.remove(word.lower())\n",
    "    for s in senses:\n",
    "        signatureWords = []\n",
    "        tokensDefinition = np.setdiff1d(nltk.word_tokenize(s.definition().lower()),sw_english).tolist()\n",
    "        signatureWords = tokensDefinition\n",
    "        for example in s.examples():\n",
    "            tokensExample = np.setdiff1d(nltk.word_tokenize(example.lower()),sw_english).tolist()\n",
    "            for t in tokensExample:\n",
    "                signatureWords.append(t)\n",
    "        overlap = 0        \n",
    "        for word in sentenceSinSW:\n",
    "            if(word in signatureWords):\n",
    "                overlap += 1\n",
    "        print(sentenceSinSW)    \n",
    "        print(signatureWords)\n",
    "        print(overlap)\n",
    "        if(overlap > maxOverlap):\n",
    "            maxOverlap = overlap\n",
    "            bestSense = s\n",
    "    return bestSense        \n",
    "        "
   ]
  },
  {
   "cell_type": "code",
   "execution_count": 6,
   "metadata": {},
   "outputs": [
    {
     "name": "stdout",
     "output_type": "stream",
     "text": [
      "['bank', 'card', 'money', 'went', 'withdraw', 'work', 'yesterday']\n",
      "['approval', 'give', 'recognition', 'trying', 'credit', 'given', 'work', 'credit', 'give', 'trying']\n",
      "1\n",
      "['bank', 'card', 'money', 'went', 'withdraw', 'work', 'yesterday']\n",
      "['available', 'borrow', 'client', 'money']\n",
      "1\n",
      "['bank', 'card', 'money', 'went', 'withdraw', 'work', 'yesterday']\n",
      "['accounting', 'acknowledging', 'capital', 'entry', 'income', 'items']\n",
      "0\n",
      "['bank', 'card', 'money', 'went', 'withdraw', 'work', 'yesterday']\n",
      "[\"'\", '`', 'achievement', 'credit', 'deserving', 'indicate', 'order', 'phrase', 'praise', 'used', 'already', 'credit', 'performances', 'several']\n",
      "0\n",
      "['bank', 'card', 'money', 'went', 'withdraw', 'work', 'yesterday']\n",
      "['arrangement', 'deferred', 'goods', 'payment', 'services']\n",
      "0\n",
      "['bank', 'card', 'money', 'went', 'withdraw', 'work', 'yesterday']\n",
      "[';', 'college', 'completed', 'course', 'hours', 'measured', 'recognition', 'semester', 'studies', 'successfully', 'typically', 'university']\n",
      "0\n",
      "['bank', 'card', 'money', 'went', 'withdraw', 'work', 'yesterday']\n",
      "['information', 'note', 'passage', 'quoted', 'recognizing', 'short', 'source', \"'s\", 'citations', 'essay', 'failed', 'important', 'list', 'several', 'student', 'acknowledgments', 'book', 'front', 'printed', 'usually', 'article', 'cases', 'clinical', 'includes', 'mention', 'similar']\n",
      "0\n",
      "['bank', 'card', 'money', 'went', 'withdraw', 'work', 'yesterday']\n",
      "['contributed', 'entry', 'film', 'list', 'persons', 'work', 'written', 'credits', 'end', 'film', 'given']\n",
      "1\n",
      "['bank', 'card', 'money', 'went', 'withdraw', 'work', 'yesterday']\n",
      "[\"'s\", ',', 'ability', 'based', 'commitments', 'dealings', 'estimate', 'financial', 'fulfill', 'organization', 'person', 'previous']\n",
      "0\n",
      "['bank', 'card', 'money', 'went', 'withdraw', 'work', 'yesterday']\n",
      "['credit', 'give', 'someone', 'something', 'credited', 'jobs', 'saving']\n",
      "0\n",
      "['bank', 'card', 'money', 'went', 'withdraw', 'work', 'yesterday']\n",
      "['achievement', 'ascribe', 'credited', 'program', 'properly']\n",
      "0\n",
      "['bank', 'card', 'money', 'went', 'withdraw', 'work', 'yesterday']\n",
      "[':', 'accounting', 'credit', 'enter', '$', '100', 'account', 'credit']\n",
      "0\n",
      "['bank', 'card', 'money', 'went', 'withdraw', 'work', 'yesterday']\n",
      "[';', 'trust', 'truth', 'veracity']\n",
      "0\n"
     ]
    },
    {
     "data": {
      "text/plain": [
       "Synset('recognition.n.03')"
      ]
     },
     "execution_count": 6,
     "metadata": {},
     "output_type": "execute_result"
    }
   ],
   "source": [
    "simplifiedLesk('credit', 'Yesterday I went to the bank to withdraw the money and the credit card did not work')"
   ]
  },
  {
   "cell_type": "code",
   "execution_count": 7,
   "metadata": {},
   "outputs": [
    {
     "name": "stdout",
     "output_type": "stream",
     "text": [
      "[Synset('recognition.n.03'), Synset('credit.n.02'), Synset('credit.n.03'), Synset('credit.n.04'), Synset('credit.n.05'), Synset('credit.n.06'), Synset('citation.n.03'), Synset('credit.n.08'), Synset('credit_rating.n.01'), Synset('credit.v.01'), Synset('accredit.v.03'), Synset('credit.v.03'), Synset('credit.v.04')]\n",
      "SENTIDO: Synset('recognition.n.03')\n",
      "DEFINICION: approval\n",
      "EJEMPLOS: ['give her recognition for trying', 'he was given credit for his work', 'give her credit for trying']\n",
      "SENTIDO: Synset('credit.n.02')\n",
      "DEFINICION: money available for a client to borrow\n",
      "EJEMPLOS: []\n",
      "SENTIDO: Synset('credit.n.03')\n",
      "DEFINICION: an accounting entry acknowledging income or capital items\n",
      "EJEMPLOS: []\n",
      "SENTIDO: Synset('credit.n.04')\n",
      "DEFINICION: used in the phrase `to your credit' in order to indicate an achievement deserving praise\n",
      "EJEMPLOS: ['she already had several performances to her credit']\n",
      "SENTIDO: Synset('credit.n.05')\n",
      "DEFINICION: arrangement for deferred payment for goods and services\n",
      "EJEMPLOS: []\n",
      "SENTIDO: Synset('credit.n.06')\n",
      "DEFINICION: recognition by a college or university that a course of studies has been successfully completed; typically measured in semester hours\n",
      "EJEMPLOS: []\n",
      "SENTIDO: Synset('citation.n.03')\n",
      "DEFINICION: a short note recognizing a source of information or of a quoted passage\n",
      "EJEMPLOS: [\"the student's essay failed to list several important citations\", 'the acknowledgments are usually printed at the front of a book', 'the article includes mention of similar clinical cases']\n",
      "SENTIDO: Synset('credit.n.08')\n",
      "DEFINICION: an entry on a list of persons who contributed to a film or written work\n",
      "EJEMPLOS: ['the credits were given at the end of the film']\n",
      "SENTIDO: Synset('credit_rating.n.01')\n",
      "DEFINICION: an estimate, based on previous dealings, of a person's or an organization's ability to fulfill their financial commitments\n",
      "EJEMPLOS: []\n",
      "SENTIDO: Synset('credit.v.01')\n",
      "DEFINICION: give someone credit for something\n",
      "EJEMPLOS: ['We credited her for saving our jobs']\n",
      "SENTIDO: Synset('accredit.v.03')\n",
      "DEFINICION: ascribe an achievement to\n",
      "EJEMPLOS: ['She was not properly credited in the program']\n",
      "SENTIDO: Synset('credit.v.03')\n",
      "DEFINICION: accounting: enter as credit\n",
      "EJEMPLOS: ['We credit your account with $100']\n",
      "SENTIDO: Synset('credit.v.04')\n",
      "DEFINICION: have trust in; trust in the truth or veracity of\n",
      "EJEMPLOS: []\n"
     ]
    }
   ],
   "source": [
    "word='credit'\n",
    "sentidos=wn.synsets(word)\n",
    "print (sentidos)\n",
    "for s in sentidos:\n",
    "    print (\"SENTIDO:\",s)\n",
    "    print (\"DEFINICION:\",s.definition())\n",
    "    print (\"EJEMPLOS:\",s.examples())"
   ]
  },
  {
   "cell_type": "code",
   "execution_count": null,
   "metadata": {},
   "outputs": [],
   "source": []
  }
 ],
 "metadata": {
  "kernelspec": {
   "display_name": "Python 3",
   "language": "python",
   "name": "python3"
  },
  "language_info": {
   "codemirror_mode": {
    "name": "ipython",
    "version": 3
   },
   "file_extension": ".py",
   "mimetype": "text/x-python",
   "name": "python",
   "nbconvert_exporter": "python",
   "pygments_lexer": "ipython3",
   "version": "3.8.3"
  }
 },
 "nbformat": 4,
 "nbformat_minor": 4
}
