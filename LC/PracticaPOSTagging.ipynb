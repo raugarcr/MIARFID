{
 "cells": [
  {
   "cell_type": "code",
   "execution_count": 1,
   "metadata": {},
   "outputs": [],
   "source": [
    "import nltk\n",
    "from nltk.corpus import cess_esp\n",
    "corpus_sentences = cess_esp.tagged_sents()\n",
    "number_sentences = len(corpus_sentences)\n",
    "\n",
    "\n"
   ]
  },
  {
   "cell_type": "code",
   "execution_count": 2,
   "metadata": {},
   "outputs": [
    {
     "name": "stdout",
     "output_type": "stream",
     "text": [
      "[('EDF', 'np00000'), (',', 'Fc'), ('que', 'pr0cn000'), ('no', 'rn'), ('quiso', 'vmis3s0'), ('revelar', 'vmn0000'), ('cuánto', 'pt0ms000'), ('*0*', 'sn.e-SUJ'), ('pagó', 'vmis3s0'), ('por', 'sps00'), ('su', 'dp3cs0'), ('participación', 'ncfs000'), ('mayoritaria', 'aq0fs0'), ('en', 'sps00'), ('EAA', 'np00000'), (',', 'Fc'), ('intervendrá', 'vmif3s0'), ('como', 'cs'), ('asistente', 'nccs000'), ('en', 'sps00'), ('la', 'da0fs0'), ('construcción', 'ncfs000'), ('de', 'sps00'), ('Altamira_2', 'np00000'), ('y', 'cc'), (',', 'Fc'), ('posteriormente', 'rg'), (',', 'Fc'), ('*0*', 'sn.e-SUJ'), ('se', 'p0300000'), ('encargará', 'vmif3s0'), ('de', 'sps00'), ('explotarla', 'vmn0000'), ('como', 'cs'), ('principal', 'aq0cs0'), ('accionista', 'aq0cs0'), ('.', 'Fp')]\n"
     ]
    }
   ],
   "source": [
    "print(corpus_sentences[3])"
   ]
  },
  {
   "cell_type": "code",
   "execution_count": 3,
   "metadata": {},
   "outputs": [],
   "source": [
    "corpus_transformado = []\n",
    "for sentence in corpus_sentences:\n",
    "    sentence_aux = []\n",
    "    for word, label in sentence:\n",
    "        if(word != \"*0*\"):\n",
    "            if(label.startswith(\"v\") or label.startswith(\"F\")):\n",
    "                sentence_aux.append((word, label[0:3]))\n",
    "            else:\n",
    "                sentence_aux.append((word, label[0:2]))\n",
    "    corpus_transformado.append(sentence_aux)   "
   ]
  },
  {
   "cell_type": "code",
   "execution_count": 4,
   "metadata": {},
   "outputs": [
    {
     "name": "stdout",
     "output_type": "stream",
     "text": [
      "[('EDF', 'np'), (',', 'Fc'), ('que', 'pr'), ('no', 'rn'), ('quiso', 'vmi'), ('revelar', 'vmn'), ('cuánto', 'pt'), ('pagó', 'vmi'), ('por', 'sp'), ('su', 'dp'), ('participación', 'nc'), ('mayoritaria', 'aq'), ('en', 'sp'), ('EAA', 'np'), (',', 'Fc'), ('intervendrá', 'vmi'), ('como', 'cs'), ('asistente', 'nc'), ('en', 'sp'), ('la', 'da'), ('construcción', 'nc'), ('de', 'sp'), ('Altamira_2', 'np'), ('y', 'cc'), (',', 'Fc'), ('posteriormente', 'rg'), (',', 'Fc'), ('se', 'p0'), ('encargará', 'vmi'), ('de', 'sp'), ('explotarla', 'vmn'), ('como', 'cs'), ('principal', 'aq'), ('accionista', 'aq'), ('.', 'Fp')]\n"
     ]
    }
   ],
   "source": [
    "print(corpus_transformado[3]) "
   ]
  },
  {
   "cell_type": "code",
   "execution_count": 5,
   "metadata": {},
   "outputs": [],
   "source": [
    "#Crear una partición de entrenamiento y de prueba\n",
    "particion_train = corpus_transformado[0:9*len(corpus_transformado)//10]\n",
    "particion_test = corpus_transformado[9*len(corpus_transformado)//10:]\n"
   ]
  },
  {
   "cell_type": "code",
   "execution_count": 6,
   "metadata": {},
   "outputs": [
    {
     "data": {
      "text/plain": [
       "0.8784427571832664"
      ]
     },
     "execution_count": 6,
     "metadata": {},
     "output_type": "execute_result"
    }
   ],
   "source": [
    "#Entrenar y evaluar las particiones transformadas con HMM\n",
    "from nltk import hmm\n",
    "tagger_hmm = hmm.HiddenMarkovModelTagger.train(particion_train)\n",
    "tagger_hmm.evaluate(particion_test)"
   ]
  },
  {
   "cell_type": "code",
   "execution_count": 7,
   "metadata": {},
   "outputs": [
    {
     "name": "stdout",
     "output_type": "stream",
     "text": [
      "['Y', 'al_final', 'le', 'pedía', 'que', 'colabore', 'conmigo', 'en', 'la', 'campaña', 'electoral', 'vasca', '-', '.']\n",
      "[('Y', 'cc'), ('al_final', 'rg'), ('le', 'pp'), ('pedía', 'vmi'), ('que', 'cs'), ('colabore', 'vai'), ('conmigo', 'vmp'), ('en', 'sp'), ('la', 'da'), ('campaña', 'nc'), ('electoral', 'aq'), ('vasca', 'aq'), ('-', 'Fg'), ('.', 'Fp')]\n"
     ]
    }
   ],
   "source": [
    "#Probamos a etiquetar 1ª frase de test\n",
    "frase = []\n",
    "for palabra, etiqueta in particion_test[0]:\n",
    "    frase.append(palabra)\n",
    "print(frase)  \n",
    "fraseEtiquetada = tagger_hmm.tag(frase)\n",
    "print(fraseEtiquetada)"
   ]
  },
  {
   "cell_type": "code",
   "execution_count": 8,
   "metadata": {},
   "outputs": [
    {
     "data": {
      "text/plain": [
       "0.8255173440524044"
      ]
     },
     "execution_count": 8,
     "metadata": {},
     "output_type": "execute_result"
    }
   ],
   "source": [
    "#Entrenar y evaluar las particiones transformadas con HMM\n",
    "from nltk import tnt\n",
    "tnt_tagger = tnt.TnT()\n",
    "tnt_tagger.train(particion_train)\n",
    "tnt_tagger.evaluate(particion_test)"
   ]
  },
  {
   "cell_type": "code",
   "execution_count": 9,
   "metadata": {},
   "outputs": [
    {
     "name": "stdout",
     "output_type": "stream",
     "text": [
      "[('Y', 'cc'), ('al_final', 'rg'), ('le', 'pp'), ('pedía', 'vmi'), ('que', 'cs'), ('colabore', 'Unk'), ('conmigo', 'Unk'), ('en', 'sp'), ('la', 'da'), ('campaña', 'nc'), ('electoral', 'aq'), ('vasca', 'aq'), ('-', 'Fg'), ('.', 'Fp')]\n"
     ]
    }
   ],
   "source": [
    "#Probamos a etiquetar 1ª frase de test\n",
    "fraseEtiquetada = tnt_tagger.tag(frase)\n",
    "print(fraseEtiquetada)"
   ]
  },
  {
   "cell_type": "code",
   "execution_count": 10,
   "metadata": {},
   "outputs": [],
   "source": [
    "#Creamos diez particiones del corpus tranformado\n",
    "particiones_train = []\n",
    "particiones_test = []\n",
    "longitud_particion = len(corpus_transformado)//10\n",
    "for i in range(0, 10):\n",
    "    particiones_train.append(corpus_transformado[0:i*longitud_particion] + corpus_transformado[(i + 1)*longitud_particion:])\n",
    "    particiones_test.append(corpus_transformado[i*longitud_particion:(i+1)*longitud_particion])  "
   ]
  },
  {
   "cell_type": "code",
   "execution_count": 11,
   "metadata": {},
   "outputs": [
    {
     "name": "stdout",
     "output_type": "stream",
     "text": [
      "[22502, 22074, 22755, 22524, 22674, 15170, 14147, 16975, 16548, 13434]\n"
     ]
    }
   ],
   "source": [
    "#Calculamos el numero de palabras en las particiones de test sin barajar para calcular el intervalo de error\n",
    "palabrasPorTest = []\n",
    "for particion in particiones_test:\n",
    "    palabras = 0\n",
    "    for sentence in particion:\n",
    "        for word in sentence:\n",
    "            palabras += 1\n",
    "    palabrasPorTest.append(palabras)\n",
    "print(palabrasPorTest)    "
   ]
  },
  {
   "cell_type": "code",
   "execution_count": 12,
   "metadata": {},
   "outputs": [
    {
     "name": "stdout",
     "output_type": "stream",
     "text": [
      "[0.9283174828904097, 0.9237111533931321, 0.9228301472203911, 0.9251465103889185, 0.9228631913204551, 0.8781806196440343, 0.887891425743974, 0.8913107511045656, 0.8911650954798163, 0.8784427571832664]\n"
     ]
    }
   ],
   "source": [
    "#Entrenamos HMM con las 10 particiones\n",
    "from nltk import hmm\n",
    "precisionesHMM = []\n",
    "for i in range(0,10):\n",
    "    tagger_hmm = hmm.HiddenMarkovModelTagger.train(particiones_train[i])\n",
    "    precisionesHMM.append(tagger_hmm.evaluate(particiones_test[i]))\n",
    "print(precisionesHMM)"
   ]
  },
  {
   "cell_type": "code",
   "execution_count": 13,
   "metadata": {},
   "outputs": [
    {
     "name": "stdout",
     "output_type": "stream",
     "text": [
      "[0.8963203270820371, 0.8886019751744133, 0.8864864864864865, 0.88949564908542, 0.8928287906853665, 0.8389584706657878, 0.8583445253410618, 0.8506627393225331, 0.8591370558375635, 0.8255173440524044]\n"
     ]
    }
   ],
   "source": [
    "#Entrenamos TNT con las 10 particiones\n",
    "from nltk import tnt\n",
    "precisionesTNT = []\n",
    "for i in range(0,10):\n",
    "    tnt_tagger = tnt.TnT()\n",
    "    tnt_tagger.train(particiones_train[i])\n",
    "    precisionesTNT.append(tnt_tagger.evaluate(particiones_test[i]))\n",
    "print(precisionesTNT)"
   ]
  },
  {
   "cell_type": "code",
   "execution_count": 14,
   "metadata": {},
   "outputs": [],
   "source": [
    "#Creamos diez particiones del corpus tranformado despúes de barajar el corpus transformado\n",
    "from random import shuffle \n",
    "corpus_barajado = corpus_transformado\n",
    "shuffle(corpus_barajado)\n",
    "particiones_barajado_train = []\n",
    "particiones_barajado_test = []\n",
    "longitud_particion = len(corpus_transformado)//10\n",
    "for i in range(0, 10):\n",
    "    particiones_barajado_train.append(corpus_barajado[0:i*longitud_particion] + corpus_barajado[(i + 1)*longitud_particion:])\n",
    "    particiones_barajado_test.append(corpus_barajado[i*longitud_particion:(i+1)*longitud_particion]) "
   ]
  },
  {
   "cell_type": "code",
   "execution_count": 15,
   "metadata": {},
   "outputs": [
    {
     "name": "stdout",
     "output_type": "stream",
     "text": [
      "[18873, 18689, 19745, 19225, 18326, 18392, 18979, 18242, 18490, 19842]\n"
     ]
    }
   ],
   "source": [
    "#Calculamos el numero de palabras en las particiones de test barajadas para calcular el intervalo de error\n",
    "palabrasPorTestBarajado = []\n",
    "for particion in particiones_barajado_test:\n",
    "    palabras = 0\n",
    "    for sentence in particion:\n",
    "        for word in sentence:\n",
    "            palabras += 1\n",
    "    palabrasPorTestBarajado.append(palabras)\n",
    "print(palabrasPorTestBarajado)  "
   ]
  },
  {
   "cell_type": "code",
   "execution_count": 16,
   "metadata": {},
   "outputs": [
    {
     "name": "stdout",
     "output_type": "stream",
     "text": [
      "[0.9271975838499443, 0.92257477660656, 0.9239807546214232, 0.9266579973992197, 0.9268798428462294, 0.9263810352327099, 0.9261815691026924, 0.9255564082885649, 0.9269334775554354, 0.9252091523031952]\n"
     ]
    }
   ],
   "source": [
    "#Entrenamos HMM con las 10 particiones barajadas\n",
    "from nltk import hmm\n",
    "precisionesHMMBarajado = []\n",
    "for i in range(0,10):\n",
    "    tagger_hmm = hmm.HiddenMarkovModelTagger.train(particiones_barajado_train[i])\n",
    "    precisionesHMMBarajado.append(tagger_hmm.evaluate(particiones_barajado_test[i]))\n",
    "print(precisionesHMMBarajado)"
   ]
  },
  {
   "cell_type": "code",
   "execution_count": 17,
   "metadata": {},
   "outputs": [
    {
     "name": "stdout",
     "output_type": "stream",
     "text": [
      "[0.9034599692682669, 0.8951254748782707, 0.8990630539377058, 0.9021586475942783, 0.9039615846338536, 0.9005545889517181, 0.9032614995521365, 0.9003946935643021, 0.90151433207139, 0.904293921983671]\n"
     ]
    }
   ],
   "source": [
    "#Entrenamos TNT con las 10 particiones barjadas\n",
    "from nltk import tnt\n",
    "precisionesTNTBarajado = []\n",
    "for i in range(0,10):\n",
    "    tnt_tagger = tnt.TnT()\n",
    "    tnt_tagger.train(particiones_barajado_train[i])\n",
    "    precisionesTNTBarajado.append(tnt_tagger.evaluate(particiones_barajado_test[i]))\n",
    "print(precisionesTNTBarajado)"
   ]
  },
  {
   "cell_type": "code",
   "execution_count": 18,
   "metadata": {},
   "outputs": [
    {
     "name": "stdout",
     "output_type": "stream",
     "text": [
      "Precisión e intervalos de confianza para HMM con validación cruzada sin barajar\n"
     ]
    },
    {
     "data": {
      "image/png": "[encoded data removed]",
      "text/plain": [
       "<Figure size 432x288 with 1 Axes>"
      ]
     },
     "metadata": {
      "needs_background": "light"
     },
     "output_type": "display_data"
    },
    {
     "name": "stdout",
     "output_type": "stream",
     "text": [
      "Precisión e intervalos de confianza para HMM con validación cruzada barajado\n"
     ]
    },
    {
     "data": {
      "image/png": "[encoded data removed]",
      "text/plain": [
       "<Figure size 432x288 with 1 Axes>"
      ]
     },
     "metadata": {
      "needs_background": "light"
     },
     "output_type": "display_data"
    }
   ],
   "source": [
    "#Calculamos los intervalos de confianza y representamos los resultados HMM \n",
    "from math import sqrt \n",
    "import matplotlib.pyplot as plt\n",
    "columnas = [1, 2, 3, 4, 5, 6 ,7 ,8 ,9 ,10]\n",
    "intervaloHMM = [] \n",
    "for i in range(0,len(precisionesHMM)): \n",
    "    s = sqrt(precisionesHMM[i]*(1-precisionesHMM[i])/palabrasPorTest[i]) \n",
    "    r = 1.96*s \n",
    "    intervaloHMM.append(r) \n",
    "print(\"Precisión e intervalos de confianza para HMM con validación cruzada sin barajar\")\n",
    "plt.plot(columnas, precisionesHMM, 'ro')\n",
    "plt.errorbar(columnas, precisionesHMM, yerr=r,linestyle='None');\n",
    "plt.ylabel('Precisión')\n",
    "plt.xlabel('Partición')\n",
    "plt.ylim((0.85,0.96))\n",
    "plt.show()\n",
    "intervaloHMM = [] \n",
    "for i in range(0,len(precisionesHMMBarajado)):  \n",
    "    s = sqrt(precisionesHMMBarajado[i]*(1-precisionesHMMBarajado[i])/palabrasPorTestBarajado[i]) \n",
    "    r = 1.96*s \n",
    "    intervaloHMM.append(r) \n",
    "print(\"Precisión e intervalos de confianza para HMM con validación cruzada barajado\")\n",
    "plt.plot(columnas, precisionesHMMBarajado, 'ro')\n",
    "plt.errorbar(columnas, precisionesHMMBarajado, yerr=r,linestyle='None');\n",
    "plt.ylabel('Precisión')\n",
    "plt.xlabel('Partición')\n",
    "plt.ylim((0.85,0.96))\n",
    "plt.show()"
   ]
  },
  {
   "cell_type": "code",
   "execution_count": 19,
   "metadata": {},
   "outputs": [
    {
     "name": "stdout",
     "output_type": "stream",
     "text": [
      "Intervalos de confianza para TNT sin barajar\n"
     ]
    },
    {
     "data": {
      "image/png": "[encoded data removed]",
      "text/plain": [
       "<Figure size 432x288 with 1 Axes>"
      ]
     },
     "metadata": {
      "needs_background": "light"
     },
     "output_type": "display_data"
    },
    {
     "name": "stdout",
     "output_type": "stream",
     "text": [
      "Intervalos de confianza para TNT barajado\n"
     ]
    },
    {
     "data": {
      "image/png": "[encoded data removed]",
      "text/plain": [
       "<Figure size 432x288 with 1 Axes>"
      ]
     },
     "metadata": {
      "needs_background": "light"
     },
     "output_type": "display_data"
    }
   ],
   "source": [
    "intervaloTNT = [] \n",
    "for i in range(0,len(precisionesTNT)): \n",
    "    s = sqrt(precisionesTNT[i]*(1-precisionesTNT[i])/palabrasPorTest[i]) \n",
    "    r = 1.96*s \n",
    "    intervaloHMM.append(r) \n",
    "print(\"Intervalos de confianza para TNT sin barajar\")\n",
    "plt.plot(columnas, precisionesTNT, 'ro')\n",
    "plt.errorbar(columnas, precisionesTNT, yerr=r,linestyle='None');\n",
    "plt.ylabel('Precisión')\n",
    "plt.xlabel('Partición')\n",
    "plt.ylim((0.80,0.96))\n",
    "plt.show()\n",
    "intervaloTNT = [] \n",
    "for i in range(0,len(precisionesTNTBarajado)): \n",
    "    s = sqrt(precisionesTNTBarajado[i]*(1-precisionesTNTBarajado[i])/palabrasPorTestBarajado[i]) \n",
    "    r = 1.96*s \n",
    "    intervaloHMM.append(r) \n",
    "print(\"Intervalos de confianza para TNT barajado\")\n",
    "plt.plot(columnas, precisionesTNTBarajado, 'ro')\n",
    "plt.errorbar(columnas, precisionesTNTBarajado, yerr=r,linestyle='None');\n",
    "plt.ylabel('Precisión')\n",
    "plt.xlabel('Partición')\n",
    "plt.ylim((0.80,0.96))\n",
    "plt.show()"
   ]
  },
  {
   "cell_type": "markdown",
   "metadata": {},
   "source": [
    "Como se puede observar en las gráficas, tanto en el caso de HMM como en el de TNT, los resultados mejoran al realizar un barajado de los datos previo al entrenamiento con Cross Validation."
   ]
  }
 ],
 "metadata": {
  "kernelspec": {
   "display_name": "Python 3",
   "language": "python",
   "name": "python3"
  },
  "language_info": {
   "codemirror_mode": {
    "name": "ipython",
    "version": 3
   },
   "file_extension": ".py",
   "mimetype": "text/x-python",
   "name": "python",
   "nbconvert_exporter": "python",
   "pygments_lexer": "ipython3",
   "version": "3.8.3"
  }
 },
 "nbformat": 4,
 "nbformat_minor": 4
}
